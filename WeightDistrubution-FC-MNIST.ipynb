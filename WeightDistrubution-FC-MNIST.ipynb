{
 "cells": [
  {
   "cell_type": "code",
   "execution_count": 57,
   "metadata": {
    "ExecuteTime": {
     "end_time": "2019-01-20T20:13:59.673640Z",
     "start_time": "2019-01-20T20:13:57.997310Z"
    }
   },
   "outputs": [
    {
     "name": "stdout",
     "output_type": "stream",
     "text": [
      "The autoreload extension is already loaded. To reload it, use:\n",
      "  %reload_ext autoreload\n"
     ]
    }
   ],
   "source": [
    "%load_ext autoreload\n",
    "%autoreload 2\n",
    "%matplotlib inline\n",
    "from experiment_train import *\n",
    "from experiment_datasets import *\n",
    "from helpers import *\n",
    "import matplotlib"
   ]
  },
  {
   "cell_type": "code",
   "execution_count": 58,
   "metadata": {
    "ExecuteTime": {
     "end_time": "2019-01-20T20:13:59.823133Z",
     "start_time": "2019-01-20T20:13:59.812310Z"
    }
   },
   "outputs": [],
   "source": [
    "# network configuration\n",
    "N = [1000, 50]\n",
    "\n",
    "def get_p_arr(p):\n",
    "    \"\"\" p array with failure on the first layer \"\"\"\n",
    "    return [0, p]  + [0] * len(N)\n",
    "\n",
    "# prob. of failure at inference\n",
    "p_inf = 0.05\n",
    "p_inference = get_p_arr(p_inf)\n",
    "\n",
    "# prob. of failure at train\n",
    "p_trains = np.linspace(0, 1.2 * p_inf, 10)\n",
    "\n",
    "# Lips. coeff\n",
    "KLips = 1.\n",
    "\n",
    "# activation function\n",
    "activation = 'sigmoid'\n",
    "\n",
    "# number of repeats for error estimation\n",
    "# see below for explanation\n",
    "repetitions = 6\n",
    "\n",
    "# number of runs for each p\n",
    "runs = 10"
   ]
  },
  {
   "cell_type": "code",
   "execution_count": 41,
   "metadata": {},
   "outputs": [
    {
     "name": "stdout",
     "output_type": "stream",
     "text": [
      "_________________________________________________________________\n",
      "Layer (type)                 Output Shape              Param #   \n",
      "=================================================================\n",
      "dense_109 (Dense)            (None, 1000)              785000    \n",
      "_________________________________________________________________\n",
      "dense_110 (Dense)            (None, 50)                50050     \n",
      "_________________________________________________________________\n",
      "dense_111 (Dense)            (None, 10)                510       \n",
      "=================================================================\n",
      "Total params: 835,560\n",
      "Trainable params: 835,560\n",
      "Non-trainable params: 0\n",
      "_________________________________________________________________\n",
      "Train on 60000 samples, validate on 10000 samples\n",
      "Epoch 1/10\n",
      "60000/60000 [==============================] - 2s 38us/step - loss: 0.0629 - categorical_accuracy: 0.7227 - mean_squared_error: 0.0629 - mean_absolute_error: 0.1617 - val_loss: 0.0275 - val_categorical_accuracy: 0.8993 - val_mean_squared_error: 0.0275 - val_mean_absolute_error: 0.1085\n",
      "Epoch 2/10\n",
      "60000/60000 [==============================] - 2s 26us/step - loss: 0.0232 - categorical_accuracy: 0.9002 - mean_squared_error: 0.0232 - mean_absolute_error: 0.0901 - val_loss: 0.0174 - val_categorical_accuracy: 0.9215 - val_mean_squared_error: 0.0174 - val_mean_absolute_error: 0.0691\n",
      "Epoch 3/10\n",
      "60000/60000 [==============================] - 2s 27us/step - loss: 0.0159 - categorical_accuracy: 0.9241 - mean_squared_error: 0.0159 - mean_absolute_error: 0.0645 - val_loss: 0.0130 - val_categorical_accuracy: 0.9340 - val_mean_squared_error: 0.0130 - val_mean_absolute_error: 0.0528\n",
      "Epoch 4/10\n",
      "60000/60000 [==============================] - 1s 23us/step - loss: 0.0124 - categorical_accuracy: 0.9386 - mean_squared_error: 0.0124 - mean_absolute_error: 0.0516 - val_loss: 0.0098 - val_categorical_accuracy: 0.9467 - val_mean_squared_error: 0.0098 - val_mean_absolute_error: 0.0399\n",
      "Epoch 5/10\n",
      "60000/60000 [==============================] - 2s 26us/step - loss: 0.0104 - categorical_accuracy: 0.9471 - mean_squared_error: 0.0104 - mean_absolute_error: 0.0443 - val_loss: 0.0087 - val_categorical_accuracy: 0.9523 - val_mean_squared_error: 0.0087 - val_mean_absolute_error: 0.0379\n",
      "Epoch 6/10\n",
      "60000/60000 [==============================] - 2s 26us/step - loss: 0.0090 - categorical_accuracy: 0.9534 - mean_squared_error: 0.0090 - mean_absolute_error: 0.0395 - val_loss: 0.0083 - val_categorical_accuracy: 0.9557 - val_mean_squared_error: 0.0083 - val_mean_absolute_error: 0.0379\n",
      "Epoch 7/10\n",
      "60000/60000 [==============================] - 2s 26us/step - loss: 0.0081 - categorical_accuracy: 0.9587 - mean_squared_error: 0.0081 - mean_absolute_error: 0.0366 - val_loss: 0.0088 - val_categorical_accuracy: 0.9515 - val_mean_squared_error: 0.0088 - val_mean_absolute_error: 0.0362\n",
      "Epoch 8/10\n",
      "60000/60000 [==============================] - 1s 24us/step - loss: 0.0073 - categorical_accuracy: 0.9625 - mean_squared_error: 0.0073 - mean_absolute_error: 0.0345 - val_loss: 0.0072 - val_categorical_accuracy: 0.9611 - val_mean_squared_error: 0.0072 - val_mean_absolute_error: 0.0342\n",
      "Epoch 9/10\n",
      "60000/60000 [==============================] - 1s 24us/step - loss: 0.0067 - categorical_accuracy: 0.9661 - mean_squared_error: 0.0067 - mean_absolute_error: 0.0324 - val_loss: 0.0069 - val_categorical_accuracy: 0.9642 - val_mean_squared_error: 0.0069 - val_mean_absolute_error: 0.0341\n",
      "Epoch 10/10\n",
      "60000/60000 [==============================] - 1s 23us/step - loss: 0.0062 - categorical_accuracy: 0.9696 - mean_squared_error: 0.0062 - mean_absolute_error: 0.0308 - val_loss: 0.0071 - val_categorical_accuracy: 0.9643 - val_mean_squared_error: 0.0071 - val_mean_absolute_error: 0.0347\n"
     ]
    },
    {
     "data": {
      "image/png": "[encoded data removed]",
      "text/plain": [
       "<Figure size 432x288 with 1 Axes>"
      ]
     },
     "metadata": {
      "needs_background": "light"
     },
     "output_type": "display_data"
    },
    {
     "name": "stdout",
     "output_type": "stream",
     "text": [
      "Creating network for 784-dimensional input and 10-dimensional output, with 2 hidden layers\n",
      "_________________________________________________________________\n",
      "Layer (type)                 Output Shape              Param #   \n",
      "=================================================================\n",
      "dense_112 (Dense)            (None, 1000)              785000    \n",
      "_________________________________________________________________\n",
      "Crashes (Lambda)             (None, 1000)              0         \n",
      "_________________________________________________________________\n",
      "dense_113 (Dense)            (None, 50)                50050     \n",
      "_________________________________________________________________\n",
      "dense_114 (Dense)            (None, 10)                510       \n",
      "=================================================================\n",
      "Total params: 835,560\n",
      "Trainable params: 835,560\n",
      "Non-trainable params: 0\n",
      "_________________________________________________________________\n",
      "_________________________________________________________________\n",
      "Layer (type)                 Output Shape              Param #   \n",
      "=================================================================\n",
      "dense_115 (Dense)            (None, 1000)              785000    \n",
      "_________________________________________________________________\n",
      "dense_116 (Dense)            (None, 50)                50050     \n",
      "_________________________________________________________________\n",
      "dense_117 (Dense)            (None, 10)                510       \n",
      "=================================================================\n",
      "Total params: 835,560\n",
      "Trainable params: 835,560\n",
      "Non-trainable params: 0\n",
      "_________________________________________________________________\n"
     ]
    }
   ],
   "source": [
    "exp = MNISTExperiment(N = N, p_inference = p_inference, p_train = get_p_arr(0), KLips = KLips, epochs = 10,\n",
    "                                      activation = activation, reg_type = None, reg_coeff = 0, do_print = True,\n",
    "                                      name = 'experiment_weights', seed = None, batch_size = 100)"
   ]
  },
  {
   "cell_type": "code",
   "execution_count": 42,
   "metadata": {},
   "outputs": [
    {
     "name": "stdout",
     "output_type": "stream",
     "text": [
      "1284013.8\n"
     ]
    },
    {
     "data": {
      "text/plain": [
       "(array([3.01451e+05, 2.35387e+05, 1.43602e+05, 6.84170e+04, 2.55650e+04,\n",
       "        7.50500e+03, 1.72800e+03, 3.07000e+02, 3.20000e+01, 6.00000e+00]),\n",
       " array([2.0042201e-07, 2.5734641e-02, 5.1469080e-02, 7.7203520e-02,\n",
       "        1.0293796e-01, 1.2867241e-01, 1.5440685e-01, 1.8014129e-01,\n",
       "        2.0587572e-01, 2.3161016e-01, 2.5734460e-01], dtype=float32),\n",
       " <a list of 10 Patch objects>)"
      ]
     },
     "execution_count": 42,
     "metadata": {},
     "output_type": "execute_result"
    },
    {
     "data": {
      "image/png": "[encoded data removed]",
      "text/plain": [
       "<Figure size 432x288 with 1 Axes>"
      ]
     },
     "metadata": {
      "needs_background": "light"
     },
     "output_type": "display_data"
    }
   ],
   "source": [
    "W = np.abs(exp.W[0]).flatten()\n",
    "print(np.max(W) / np.min(W))\n",
    "plt.hist(np.abs(W).flatten())"
   ]
  },
  {
   "cell_type": "code",
   "execution_count": 31,
   "metadata": {},
   "outputs": [
    {
     "name": "stdout",
     "output_type": "stream",
     "text": [
      "_________________________________________________________________\n",
      "Layer (type)                 Output Shape              Param #   \n",
      "=================================================================\n",
      "dense_91 (Dense)             (None, 300)               235500    \n",
      "_________________________________________________________________\n",
      "dense_92 (Dense)             (None, 50)                15050     \n",
      "_________________________________________________________________\n",
      "dense_93 (Dense)             (None, 10)                510       \n",
      "=================================================================\n",
      "Total params: 251,060\n",
      "Trainable params: 251,060\n",
      "Non-trainable params: 0\n",
      "_________________________________________________________________\n",
      "Train on 60000 samples, validate on 10000 samples\n",
      "Epoch 1/10\n",
      "60000/60000 [==============================] - 2s 28us/step - loss: 0.1050 - categorical_accuracy: 0.8201 - mean_squared_error: 0.0395 - mean_absolute_error: 0.1257 - val_loss: 0.0782 - val_categorical_accuracy: 0.9239 - val_mean_squared_error: 0.0193 - val_mean_absolute_error: 0.0832\n",
      "Epoch 2/10\n",
      "60000/60000 [==============================] - 1s 17us/step - loss: 0.0707 - categorical_accuracy: 0.9238 - mean_squared_error: 0.0175 - mean_absolute_error: 0.0743 - val_loss: 0.0632 - val_categorical_accuracy: 0.9340 - val_mean_squared_error: 0.0153 - val_mean_absolute_error: 0.0694\n",
      "Epoch 3/10\n",
      "60000/60000 [==============================] - 1s 18us/step - loss: 0.0570 - categorical_accuracy: 0.9370 - mean_squared_error: 0.0136 - mean_absolute_error: 0.0601 - val_loss: 0.0520 - val_categorical_accuracy: 0.9385 - val_mean_squared_error: 0.0128 - val_mean_absolute_error: 0.0580\n",
      "Epoch 4/10\n",
      "60000/60000 [==============================] - 1s 18us/step - loss: 0.0474 - categorical_accuracy: 0.9446 - mean_squared_error: 0.0118 - mean_absolute_error: 0.0533 - val_loss: 0.0432 - val_categorical_accuracy: 0.9464 - val_mean_squared_error: 0.0109 - val_mean_absolute_error: 0.0476\n",
      "Epoch 5/10\n",
      "60000/60000 [==============================] - 1s 18us/step - loss: 0.0403 - categorical_accuracy: 0.9494 - mean_squared_error: 0.0108 - mean_absolute_error: 0.0498 - val_loss: 0.0382 - val_categorical_accuracy: 0.9495 - val_mean_squared_error: 0.0113 - val_mean_absolute_error: 0.0570\n",
      "Epoch 6/10\n",
      "60000/60000 [==============================] - 1s 18us/step - loss: 0.0347 - categorical_accuracy: 0.9538 - mean_squared_error: 0.0100 - mean_absolute_error: 0.0471 - val_loss: 0.0321 - val_categorical_accuracy: 0.9543 - val_mean_squared_error: 0.0095 - val_mean_absolute_error: 0.0454\n",
      "Epoch 7/10\n",
      "60000/60000 [==============================] - 1s 18us/step - loss: 0.0303 - categorical_accuracy: 0.9570 - mean_squared_error: 0.0095 - mean_absolute_error: 0.0454 - val_loss: 0.0288 - val_categorical_accuracy: 0.9563 - val_mean_squared_error: 0.0096 - val_mean_absolute_error: 0.0465\n",
      "Epoch 8/10\n",
      "60000/60000 [==============================] - 1s 17us/step - loss: 0.0269 - categorical_accuracy: 0.9588 - mean_squared_error: 0.0091 - mean_absolute_error: 0.0440 - val_loss: 0.0249 - val_categorical_accuracy: 0.9576 - val_mean_squared_error: 0.0084 - val_mean_absolute_error: 0.0382\n",
      "Epoch 9/10\n",
      "60000/60000 [==============================] - 1s 17us/step - loss: 0.0242 - categorical_accuracy: 0.9605 - mean_squared_error: 0.0087 - mean_absolute_error: 0.0427 - val_loss: 0.0229 - val_categorical_accuracy: 0.9611 - val_mean_squared_error: 0.0084 - val_mean_absolute_error: 0.0420\n",
      "Epoch 10/10\n",
      "60000/60000 [==============================] - 1s 17us/step - loss: 0.0220 - categorical_accuracy: 0.9627 - mean_squared_error: 0.0084 - mean_absolute_error: 0.0418 - val_loss: 0.0208 - val_categorical_accuracy: 0.9625 - val_mean_squared_error: 0.0080 - val_mean_absolute_error: 0.0391\n"
     ]
    },
    {
     "data": {
      "image/png": "[encoded data removed]",
      "text/plain": [
       "<Figure size 432x288 with 1 Axes>"
      ]
     },
     "metadata": {
      "needs_background": "light"
     },
     "output_type": "display_data"
    },
    {
     "name": "stdout",
     "output_type": "stream",
     "text": [
      "Creating network for 784-dimensional input and 10-dimensional output, with 2 hidden layers\n",
      "_________________________________________________________________\n",
      "Layer (type)                 Output Shape              Param #   \n",
      "=================================================================\n",
      "dense_94 (Dense)             (None, 300)               235500    \n",
      "_________________________________________________________________\n",
      "Crashes (Lambda)             (None, 300)               0         \n",
      "_________________________________________________________________\n",
      "dense_95 (Dense)             (None, 50)                15050     \n",
      "_________________________________________________________________\n",
      "dense_96 (Dense)             (None, 10)                510       \n",
      "=================================================================\n",
      "Total params: 251,060\n",
      "Trainable params: 251,060\n",
      "Non-trainable params: 0\n",
      "_________________________________________________________________\n",
      "_________________________________________________________________\n",
      "Layer (type)                 Output Shape              Param #   \n",
      "=================================================================\n",
      "dense_97 (Dense)             (None, 300)               235500    \n",
      "_________________________________________________________________\n",
      "dense_98 (Dense)             (None, 50)                15050     \n",
      "_________________________________________________________________\n",
      "dense_99 (Dense)             (None, 10)                510       \n",
      "=================================================================\n",
      "Total params: 251,060\n",
      "Trainable params: 251,060\n",
      "Non-trainable params: 0\n",
      "_________________________________________________________________\n"
     ]
    }
   ],
   "source": [
    "exp = MNISTExperiment(N = N, p_inference = p_inference, p_train = get_p_arr(0), KLips = KLips, epochs = 10,\n",
    "                                      activation = activation, reg_type = 'l2', reg_coeff = 0.0001, do_print = True,\n",
    "                                      name = 'experiment_weights', seed = None, batch_size = 100)"
   ]
  },
  {
   "cell_type": "code",
   "execution_count": 32,
   "metadata": {},
   "outputs": [
    {
     "name": "stdout",
     "output_type": "stream",
     "text": [
      "2518987.8\n"
     ]
    },
    {
     "data": {
      "text/plain": [
       "(array([1.47484e+05, 6.67150e+04, 1.62040e+04, 3.53600e+03, 8.95000e+02,\n",
       "        2.55000e+02, 7.00000e+01, 2.60000e+01, 1.00000e+01, 5.00000e+00]),\n",
       " array([6.18507840e-08, 1.55801931e-02, 3.11603229e-02, 4.67404537e-02,\n",
       "        6.23205863e-02, 7.79007152e-02, 9.34808478e-02, 1.09060980e-01,\n",
       "        1.24641106e-01, 1.40221238e-01, 1.55801371e-01], dtype=float32),\n",
       " <a list of 10 Patch objects>)"
      ]
     },
     "execution_count": 32,
     "metadata": {},
     "output_type": "execute_result"
    },
    {
     "data": {
      "image/png": "[encoded data removed]",
      "text/plain": [
       "<Figure size 432x288 with 1 Axes>"
      ]
     },
     "metadata": {
      "needs_background": "light"
     },
     "output_type": "display_data"
    }
   ],
   "source": [
    "W = np.abs(exp.W[0]).flatten()\n",
    "print(np.max(W) / np.min(W))\n",
    "plt.hist(np.abs(W).flatten())"
   ]
  },
  {
   "cell_type": "code",
   "execution_count": 51,
   "metadata": {},
   "outputs": [
    {
     "name": "stdout",
     "output_type": "stream",
     "text": [
      "_________________________________________________________________\n",
      "Layer (type)                 Output Shape              Param #   \n",
      "=================================================================\n",
      "dense_154 (Dense)            (None, 1000)              785000    \n",
      "_________________________________________________________________\n",
      "Crashes (Lambda)             (None, 1000)              0         \n",
      "_________________________________________________________________\n",
      "dense_155 (Dense)            (None, 50)                50050     \n",
      "_________________________________________________________________\n",
      "dense_156 (Dense)            (None, 10)                510       \n",
      "=================================================================\n",
      "Total params: 835,560\n",
      "Trainable params: 835,560\n",
      "Non-trainable params: 0\n",
      "_________________________________________________________________\n",
      "Train on 60000 samples, validate on 10000 samples\n",
      "Epoch 1/10\n",
      "60000/60000 [==============================] - 3s 45us/step - loss: 69309.2092 - categorical_accuracy: 0.5038 - mean_squared_error: 0.0743 - mean_absolute_error: 0.1690 - val_loss: 59991.8129 - val_categorical_accuracy: 0.7259 - val_mean_squared_error: 0.0492 - val_mean_absolute_error: 0.1436\n",
      "Epoch 2/10\n",
      "60000/60000 [==============================] - 1s 24us/step - loss: 57307.5050 - categorical_accuracy: 0.7968 - mean_squared_error: 0.0412 - mean_absolute_error: 0.1275 - val_loss: 55255.2611 - val_categorical_accuracy: 0.8565 - val_mean_squared_error: 0.0345 - val_mean_absolute_error: 0.1179\n",
      "Epoch 3/10\n",
      "60000/60000 [==============================] - 2s 27us/step - loss: 53851.9298 - categorical_accuracy: 0.8604 - mean_squared_error: 0.0327 - mean_absolute_error: 0.1138 - val_loss: 52745.7464 - val_categorical_accuracy: 0.8820 - val_mean_squared_error: 0.0297 - val_mean_absolute_error: 0.1105\n",
      "Epoch 4/10\n",
      "60000/60000 [==============================] - 2s 27us/step - loss: 51863.3635 - categorical_accuracy: 0.8847 - mean_squared_error: 0.0287 - mean_absolute_error: 0.1069 - val_loss: 51110.4577 - val_categorical_accuracy: 0.8958 - val_mean_squared_error: 0.0264 - val_mean_absolute_error: 0.1023\n",
      "Epoch 5/10\n",
      "60000/60000 [==============================] - 2s 27us/step - loss: 50428.2724 - categorical_accuracy: 0.8975 - mean_squared_error: 0.0252 - mean_absolute_error: 0.0998 - val_loss: 49741.0170 - val_categorical_accuracy: 0.9086 - val_mean_squared_error: 0.0229 - val_mean_absolute_error: 0.0941\n",
      "Epoch 6/10\n",
      "60000/60000 [==============================] - 2s 27us/step - loss: 49312.8302 - categorical_accuracy: 0.9087 - mean_squared_error: 0.0222 - mean_absolute_error: 0.0926 - val_loss: 48837.5324 - val_categorical_accuracy: 0.9134 - val_mean_squared_error: 0.0205 - val_mean_absolute_error: 0.0874\n",
      "Epoch 7/10\n",
      "60000/60000 [==============================] - 2s 27us/step - loss: 48463.2948 - categorical_accuracy: 0.9142 - mean_squared_error: 0.0197 - mean_absolute_error: 0.0834 - val_loss: 48111.2571 - val_categorical_accuracy: 0.9184 - val_mean_squared_error: 0.0188 - val_mean_absolute_error: 0.0810\n",
      "Epoch 8/10\n",
      "60000/60000 [==============================] - 2s 27us/step - loss: 47802.3880 - categorical_accuracy: 0.9220 - mean_squared_error: 0.0177 - mean_absolute_error: 0.0762 - val_loss: 47531.6045 - val_categorical_accuracy: 0.9233 - val_mean_squared_error: 0.0167 - val_mean_absolute_error: 0.0727\n",
      "Epoch 9/10\n",
      "60000/60000 [==============================] - 2s 27us/step - loss: 47322.2234 - categorical_accuracy: 0.9264 - mean_squared_error: 0.0164 - mean_absolute_error: 0.0721 - val_loss: 47162.1313 - val_categorical_accuracy: 0.9274 - val_mean_squared_error: 0.0160 - val_mean_absolute_error: 0.0711\n",
      "Epoch 10/10\n",
      "60000/60000 [==============================] - 2s 27us/step - loss: 46999.6069 - categorical_accuracy: 0.9312 - mean_squared_error: 0.0155 - mean_absolute_error: 0.0695 - val_loss: 46866.5969 - val_categorical_accuracy: 0.9332 - val_mean_squared_error: 0.0149 - val_mean_absolute_error: 0.0684\n"
     ]
    },
    {
     "data": {
      "image/png": "[encoded data removed]",
      "text/plain": [
       "<Figure size 432x288 with 1 Axes>"
      ]
     },
     "metadata": {
      "needs_background": "light"
     },
     "output_type": "display_data"
    },
    {
     "name": "stdout",
     "output_type": "stream",
     "text": [
      "Creating network for 784-dimensional input and 10-dimensional output, with 2 hidden layers\n",
      "_________________________________________________________________\n",
      "Layer (type)                 Output Shape              Param #   \n",
      "=================================================================\n",
      "dense_157 (Dense)            (None, 1000)              785000    \n",
      "_________________________________________________________________\n",
      "Crashes (Lambda)             (None, 1000)              0         \n",
      "_________________________________________________________________\n",
      "dense_158 (Dense)            (None, 50)                50050     \n",
      "_________________________________________________________________\n",
      "dense_159 (Dense)            (None, 10)                510       \n",
      "=================================================================\n",
      "Total params: 835,560\n",
      "Trainable params: 835,560\n",
      "Non-trainable params: 0\n",
      "_________________________________________________________________\n",
      "_________________________________________________________________\n",
      "Layer (type)                 Output Shape              Param #   \n",
      "=================================================================\n",
      "dense_160 (Dense)            (None, 1000)              785000    \n",
      "_________________________________________________________________\n",
      "dense_161 (Dense)            (None, 50)                50050     \n",
      "_________________________________________________________________\n",
      "dense_162 (Dense)            (None, 10)                510       \n",
      "=================================================================\n",
      "Total params: 835,560\n",
      "Trainable params: 835,560\n",
      "Non-trainable params: 0\n",
      "_________________________________________________________________\n"
     ]
    }
   ],
   "source": [
    "exp = MNISTExperiment(N = N, p_inference = p_inference, p_train = get_p_arr(0.5), KLips = KLips, epochs = 10,\n",
    "                                      activation = activation, reg_type = 'balanced', reg_coeff = 1e-2, do_print = True,\n",
    "                                      name = 'experiment_weights', seed = None, batch_size = 100)"
   ]
  },
  {
   "cell_type": "code",
   "execution_count": 56,
   "metadata": {},
   "outputs": [
    {
     "name": "stdout",
     "output_type": "stream",
     "text": [
      "1.2124646\n"
     ]
    },
    {
     "data": {
      "text/plain": [
       "(array([ 15.,  39., 130., 228., 244., 176., 104.,  50.,  12.,   2.]),\n",
       " array([1.3169051, 1.3448848, 1.3728642, 1.4008439, 1.4288234, 1.456803 ,\n",
       "        1.4847826, 1.5127621, 1.5407417, 1.5687212, 1.5967008],\n",
       "       dtype=float32),\n",
       " <a list of 10 Patch objects>)"
      ]
     },
     "execution_count": 56,
     "metadata": {},
     "output_type": "execute_result"
    },
    {
     "data": {
      "image/png": "[encoded data removed]",
      "text/plain": [
       "<Figure size 432x288 with 1 Axes>"
      ]
     },
     "metadata": {
      "needs_background": "light"
     },
     "output_type": "display_data"
    }
   ],
   "source": [
    "#W = np.abs(exp.W[0]).flatten()\n",
    "W = np.linalg.norm(exp.W[0], axis = 1)\n",
    "print(np.max(W) / np.min(W))\n",
    "plt.hist(np.abs(W).flatten())"
   ]
  },
  {
   "cell_type": "code",
   "execution_count": null,
   "metadata": {},
   "outputs": [],
   "source": [
    "# N, reg_coeff -> q\n",
    "# repetitions: 5\n",
    "# Ns: 50 100 500 1000 5000\n",
    "# qs: mean, std\n",
    "\n",
    "# Which weights to check? Need to take W[2] maybe?..\n",
    "\n",
    "N = [1000, 50]\n",
    "\n",
    "exp = MNISTExperiment(N = N, p_inference = p_inference, p_train = get_p_arr(0.5), KLips = KLips, epochs = 10,\n",
    "                                      activation = activation, reg_type = 'balanced', reg_coeff = 1e-2, do_print = True,\n",
    "                                      name = 'experiment_weights', seed = None, batch_size = 100)"
   ]
  }
 ],
 "metadata": {
  "kernelspec": {
   "display_name": "Python 3",
   "language": "python",
   "name": "python3"
  },
  "language_info": {
   "codemirror_mode": {
    "name": "ipython",
    "version": 3
   },
   "file_extension": ".py",
   "mimetype": "text/x-python",
   "name": "python",
   "nbconvert_exporter": "python",
   "pygments_lexer": "ipython3",
   "version": "3.6.8"
  },
  "notify_time": "5",
  "varInspector": {
   "cols": {
    "lenName": 16,
    "lenType": 16,
    "lenVar": 40
   },
   "kernels_config": {
    "python": {
     "delete_cmd_postfix": "",
     "delete_cmd_prefix": "del ",
     "library": "var_list.py",
     "varRefreshCmd": "print(var_dic_list())"
    },
    "r": {
     "delete_cmd_postfix": ") ",
     "delete_cmd_prefix": "rm(",
     "library": "var_list.r",
     "varRefreshCmd": "cat(var_dic_list()) "
    }
   },
   "position": {
    "height": "407px",
    "left": "1561px",
    "right": "20px",
    "top": "120px",
    "width": "339px"
   },
   "types_to_exclude": [
    "module",
    "function",
    "builtin_function_or_method",
    "instance",
    "_Feature"
   ],
   "window_display": false
  }
 },
 "nbformat": 4,
 "nbformat_minor": 2
}
