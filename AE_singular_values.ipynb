{
 "cells": [
  {
   "cell_type": "code",
   "execution_count": 1,
   "metadata": {},
   "outputs": [
    {
     "name": "stderr",
     "output_type": "stream",
     "text": [
      "Using TensorFlow backend.\n"
     ]
    },
    {
     "name": "stdout",
     "output_type": "stream",
     "text": [
      "Initialized TensorFlow\n"
     ]
    }
   ],
   "source": [
    "\"\"\"\n",
    "This tutorial shows how to generate adversarial examples using FGSM\n",
    "and train a model using adversarial training with TensorFlow.\n",
    "It is very similar to mnist_tutorial_keras_tf.py, which does the same\n",
    "thing but with a dependence on keras.\n",
    "The original paper can be found at:\n",
    "https://arxiv.org/abs/1412.6572\n",
    "\"\"\"\n",
    "from __future__ import absolute_import\n",
    "from __future__ import division\n",
    "from __future__ import print_function\n",
    "from __future__ import unicode_literals\n",
    "\n",
    "from model import *\n",
    "import functools\n",
    "from cleverhans import initializers\n",
    "\n",
    "from tqdm import tqdm\n",
    "import logging\n",
    "import numpy as np\n",
    "import tensorflow as tf\n",
    "from tensorflow.python.platform import flags\n",
    "\n",
    "from cleverhans.loss import CrossEntropy\n",
    "from cleverhans.dataset import MNIST\n",
    "from cleverhans.utils_tf import model_eval\n",
    "from cleverhans.train import train\n",
    "from cleverhans.attacks import FastGradientMethod\n",
    "from cleverhans.utils import AccuracyReport, set_log_level, get_log_level\n",
    "from cleverhans_tutorials.tutorial_models import ModelBasicCNN\n",
    "from cleverhans.model import Model\n",
    "from cleverhans.compat import softmax_cross_entropy_with_logits\n",
    "\n",
    "%matplotlib inline\n",
    "from matplotlib import pyplot as plt"
   ]
  },
  {
   "cell_type": "code",
   "execution_count": 2,
   "metadata": {},
   "outputs": [],
   "source": [
    "FLAGS = flags.FLAGS\n",
    "\n",
    "NB_EPOCHS = 3\n",
    "BATCH_SIZE = 128\n",
    "LEARNING_RATE = 0.001\n",
    "CLEAN_TRAIN = True\n",
    "BACKPROP_THROUGH_ATTACK = False\n",
    "NB_FILTERS = 64"
   ]
  },
  {
   "cell_type": "code",
   "execution_count": 3,
   "metadata": {},
   "outputs": [],
   "source": [
    "class ModelCNN(Model):\n",
    "  def __init__(self, scope, nb_classes, nb_filters, **kwargs):\n",
    "    del kwargs\n",
    "    Model.__init__(self, scope, nb_classes, locals())\n",
    "    self.nb_filters = nb_filters\n",
    "\n",
    "    # Do a dummy run of fprop to make sure the variables are created from\n",
    "    # the start\n",
    "    self.fprop(tf.placeholder(tf.float32, [128, 28, 28, 1]))\n",
    "    # Put a reference to the params in self so that the params get pickled\n",
    "    self.params = self.get_params()\n",
    "\n",
    "  def eigens(self, sess, xs, x = None, x_orig = None):\n",
    "    with sess.as_default():\n",
    "        # forward propagation\n",
    "        out = self.fprop(x)\n",
    "        \n",
    "        # getting saved norms tensor array\n",
    "        torun = self.norms\n",
    "        \n",
    "        # running array with inputs\n",
    "        e = sess.run(torun, feed_dict = {x_orig: xs})\n",
    "        \n",
    "        # sanity check\n",
    "        assert len(e) % 2 == 0, \"Must have even number of arrays\"\n",
    "        \n",
    "        # unpacking results...\n",
    "        res = []\n",
    "        for x, y in zip(e[1::2], e[0::2]):\n",
    "            res += [[a / b for (a, b) in zip(x, y)]]\n",
    "            \n",
    "        # returning original arrays and the final result\n",
    "        return e, res\n",
    "    \n",
    "  def fprop(self, x, **kwargs):\n",
    "    del kwargs\n",
    "    my_conv = functools.partial(\n",
    "        tf.layers.conv2d, activation = None,\n",
    "        kernel_initializer=initializers.HeReLuNormalInitializer, use_bias = False)\n",
    "    def get_norm(y):\n",
    "        return tf.norm(tf.reshape(y, (-1, np.prod([int(t) for t in y.shape[1:]]))), axis = 1)\n",
    "    with tf.variable_scope(self.scope, reuse=tf.AUTO_REUSE):\n",
    "      norms = []\n",
    "      y = x\n",
    "      norms += [get_norm(y)]\n",
    "      y = my_conv(y, self.nb_filters, 8, strides=2, padding='same')\n",
    "      norms += [get_norm(y)]\n",
    "    \n",
    "      y = tf.nn.relu(y)\n",
    "      norms += [get_norm(y)]\n",
    "      y = my_conv(y, 2 * self.nb_filters, 6, strides=2, padding='valid')\n",
    "      norms += [get_norm(y)]\n",
    "    \n",
    "      y = tf.nn.relu(y)\n",
    "      norms += [get_norm(y)]\n",
    "      y = my_conv(y, 2 * self.nb_filters, 5, strides=1, padding='valid')\n",
    "      norms += [get_norm(y)]\n",
    "    \n",
    "      y = tf.nn.relu(y)\n",
    "        \n",
    "      norms += [get_norm(y)]\n",
    "      logits = tf.layers.dense(\n",
    "          tf.layers.flatten(y), self.nb_classes,\n",
    "          kernel_initializer=initializers.HeReLuNormalInitializer)\n",
    "      norms += [get_norm(logits)]\n",
    "      self.norms = norms\n",
    "      print('Saved norms tensor')\n",
    "      return {self.O_LOGITS: logits,\n",
    "              self.O_PROBS: tf.nn.softmax(logits=logits)}"
   ]
  },
  {
   "cell_type": "code",
   "execution_count": 4,
   "metadata": {},
   "outputs": [],
   "source": [
    "def mnist_tutorial(train_start=0, train_end=60000, test_start=0,\n",
    "                   test_end=10000, nb_epochs=NB_EPOCHS, batch_size=BATCH_SIZE,\n",
    "                   learning_rate=LEARNING_RATE,\n",
    "                   clean_train=CLEAN_TRAIN,\n",
    "                   testing=False,\n",
    "                   backprop_through_attack=BACKPROP_THROUGH_ATTACK,\n",
    "                   nb_filters=NB_FILTERS, num_threads=None,\n",
    "                   label_smoothing=0.1):\n",
    "  \"\"\"\n",
    "  MNIST cleverhans tutorial\n",
    "  :param train_start: index of first training set example\n",
    "  :param train_end: index of last training set example\n",
    "  :param test_start: index of first test set example\n",
    "  :param test_end: index of last test set example\n",
    "  :param nb_epochs: number of epochs to train model\n",
    "  :param batch_size: size of training batches\n",
    "  :param learning_rate: learning rate for training\n",
    "  :param clean_train: perform normal training on clean examples only\n",
    "                      before performing adversarial training.\n",
    "  :param testing: if true, complete an AccuracyReport for unit tests\n",
    "                  to verify that performance is adequate\n",
    "  :param backprop_through_attack: If True, backprop through adversarial\n",
    "                                  example construction process during\n",
    "                                  adversarial training.\n",
    "  :param label_smoothing: float, amount of label smoothing for cross entropy\n",
    "  :return: an AccuracyReport object\n",
    "  \"\"\"\n",
    "\n",
    "  tf.reset_default_graph()\n",
    "\n",
    "  # Object used to keep track of (and return) key accuracies\n",
    "  report = AccuracyReport()\n",
    "\n",
    "  # Set logging level to see debug information\n",
    "  set_log_level(logging.WARNING)\n",
    "\n",
    "  # Create TF session\n",
    "  if num_threads:\n",
    "    config_args = dict(intra_op_parallelism_threads=1)\n",
    "  else:\n",
    "    config_args = {}\n",
    "  config = tf.ConfigProto(**config_args)\n",
    "  config.gpu_options.per_process_gpu_memory_fraction = 0.5\n",
    "  config.gpu_options.allow_growth = True\n",
    "  sess = tf.Session(config=config)\n",
    "\n",
    "  # Get MNIST data\n",
    "  mnist = MNIST(train_start=train_start, train_end=train_end,\n",
    "                test_start=test_start, test_end=test_end)\n",
    "  x_train, y_train = mnist.get_set('train')\n",
    "  x_test, y_test = mnist.get_set('test')\n",
    "\n",
    "  #print(np.min(x_train), np.max(x_train)) 0.0 1.0\n",
    "\n",
    "  # Use Image Parameters\n",
    "  img_rows, img_cols, nchannels = x_train.shape[1:4]\n",
    "  nb_classes = y_train.shape[1]\n",
    "    \n",
    "  print('NormTrain: %.2f' % np.linalg.norm(x_train[0].flatten()))\n",
    "\n",
    "  # Define input TF placeholder\n",
    "  x = tf.placeholder(tf.float32, shape=(None, img_rows, img_cols,\n",
    "                                        nchannels))\n",
    "  y = tf.placeholder(tf.float32, shape=(None, nb_classes))\n",
    "\n",
    "  # Train an MNIST model\n",
    "  train_params = {\n",
    "      'nb_epochs': nb_epochs,\n",
    "      'batch_size': batch_size,\n",
    "      'learning_rate': learning_rate\n",
    "  }\n",
    "  eval_params = {\n",
    "      'batch_size': batch_size\n",
    "  }\n",
    "\n",
    "  # making attack single-coordinate\n",
    "  fgsm_params = {\n",
    "      'eps': 0.1,\n",
    "      'clip_min': 0.,\n",
    "      'clip_max': 1.\n",
    "  }\n",
    "  rng = np.random.RandomState([2017, 8, 30])\n",
    "\n",
    "  def do_eval(preds, x_set, y_set, report_key, is_adv=None):\n",
    "    acc = model_eval(sess, x, y, preds, x_set, y_set, args=eval_params, feed = {})\n",
    "    setattr(report, report_key, acc)\n",
    "    if is_adv is None:\n",
    "      report_text = None\n",
    "    elif is_adv:\n",
    "      report_text = 'adversarial'\n",
    "    else:\n",
    "      report_text = 'legitimate'\n",
    "    if report_text:\n",
    "      print('Test accuracy on %s examples: %0.4f' % (report_text, acc))\n",
    "\n",
    "  if clean_train:\n",
    "    model = ModelCNN('model1', nb_classes, nb_filters)\n",
    "    preds = model.get_logits(x)\n",
    "    loss = CrossEntropy(model, smoothing=label_smoothing)\n",
    "\n",
    "    def evaluate():\n",
    "      do_eval(preds, x_test, y_test, 'clean_train_clean_eval', False)\n",
    "    \n",
    "    #eigens1 = model.eigens(sess, x_train)\n",
    "\n",
    "    train(sess, loss, x_train, y_train, evaluate=evaluate,\n",
    "          args=train_params, rng=rng, var_list=model.get_params(),\n",
    "          feed = {})\n",
    "    \n",
    "    def loss_grad_orig(x):\n",
    "        with sess.as_default():\n",
    "            loss = softmax_cross_entropy_with_logits(labels=y, logits=preds)\n",
    "            return sess.run(tf.gradients(loss, x), feed_dict = {})\n",
    "            \n",
    "    #grads1 = loss_grad_orig(x_test[:1000])\n",
    "    \n",
    "    _, eigens1 = model.eigens(sess, x_test[:1000], x = x, x_orig = x)\n",
    "    _, eigens2 = model.eigens(sess, x_train[:1000], x = x, x_orig = x)\n",
    "    \n",
    "    #return e\n",
    "\n",
    "    # Calculate training error\n",
    "    if testing:\n",
    "      do_eval(preds, x_train, y_train, 'train_clean_train_clean_eval')\n",
    "\n",
    "    # Initialize the Fast Gradient Sign Method (FGSM) attack object and\n",
    "    # graph\n",
    "    fgsm = FastGradientMethod(model, sess=sess)\n",
    "    adv_x = fgsm.generate(x, **fgsm_params)\n",
    "    preds_adv = model.get_logits(adv_x)\n",
    "\n",
    "    # Evaluate the accuracy of the MNIST model on adversarial examples\n",
    "    do_eval(preds_adv, x_test[:1000], y_test[:1000], 'clean_train_adv_eval', True)\n",
    "\n",
    "    _, eigens3 = model.eigens(sess, x_train[:1000], x = adv_x, x_orig = x)\n",
    "\n",
    "    # Calculate training error\n",
    "    if testing:\n",
    "      do_eval(preds_adv, x_train, y_train, 'train_clean_train_adv_eval')\n",
    "    \n",
    "    return eigens1, eigens2, eigens3\n",
    "\n",
    "  return report"
   ]
  },
  {
   "cell_type": "code",
   "execution_count": 5,
   "metadata": {},
   "outputs": [
    {
     "name": "stdout",
     "output_type": "stream",
     "text": [
      "NormTrain: 9.56\n",
      "Saved norms tensor\n",
      "Saved norms tensor\n",
      "Saved norms tensor\n",
      "Saved norms tensor\n",
      "num_devices:  2\n",
      "Test accuracy on legitimate examples: 0.9883\n",
      "Test accuracy on legitimate examples: 0.9907\n",
      "Test accuracy on legitimate examples: 0.9923\n",
      "Saved norms tensor\n",
      "Saved norms tensor\n"
     ]
    },
    {
     "name": "stderr",
     "output_type": "stream",
     "text": [
      "/localhome/xxxx/miniconda3/envs/neuronfailure/lib/python3.6/site-packages/cleverhans/attacks_tf.py:26: UserWarning: attacks_tf is deprecated and will be removed on 2019-07-18 or after. Code should import functions from their new locations directly.\n",
      "  warnings.warn(\"attacks_tf is deprecated and will be removed on 2019-07-18\"\n"
     ]
    },
    {
     "name": "stdout",
     "output_type": "stream",
     "text": [
      "Saved norms tensor\n",
      "Saved norms tensor\n",
      "Saved norms tensor\n",
      "Test accuracy on adversarial examples: 0.8330\n",
      "Saved norms tensor\n"
     ]
    }
   ],
   "source": [
    "res = mnist_tutorial()"
   ]
  },
  {
   "cell_type": "code",
   "execution_count": 6,
   "metadata": {},
   "outputs": [
    {
     "data": {
      "image/png": "[encoded data removed]",
      "text/plain": [
       "<Figure size 432x288 with 1 Axes>"
      ]
     },
     "metadata": {
      "needs_background": "light"
     },
     "output_type": "display_data"
    },
    {
     "data": {
      "image/png": "[encoded data removed]",
      "text/plain": [
       "<Figure size 432x288 with 1 Axes>"
      ]
     },
     "metadata": {
      "needs_background": "light"
     },
     "output_type": "display_data"
    },
    {
     "data": {
      "image/png": "[encoded data removed]",
      "text/plain": [
       "<Figure size 432x288 with 1 Axes>"
      ]
     },
     "metadata": {
      "needs_background": "light"
     },
     "output_type": "display_data"
    },
    {
     "data": {
      "image/png": "[encoded data removed]",
      "text/plain": [
       "<Figure size 432x288 with 1 Axes>"
      ]
     },
     "metadata": {
      "needs_background": "light"
     },
     "output_type": "display_data"
    }
   ],
   "source": [
    "for i in range(len(res[0])):\n",
    "    plt.figure()\n",
    "    test_, train_, adv_ = [x[i] for x in res]\n",
    "    plt.title('Layer %d' % (i + 1))\n",
    "    plt.hist(test_, alpha = 0.5, label = 'Test')\n",
    "    plt.hist(train_, alpha = 0.5, label = 'Train')\n",
    "    plt.hist(adv_, alpha = 0.5, label = 'Adversarial')\n",
    "    plt.legend()\n",
    "    plt.show()"
   ]
  },
  {
   "cell_type": "code",
   "execution_count": null,
   "metadata": {},
   "outputs": [],
   "source": []
  }
 ],
 "metadata": {
  "kernelspec": {
   "display_name": "Python 3",
   "language": "python",
   "name": "python3"
  },
  "language_info": {
   "codemirror_mode": {
    "name": "ipython",
    "version": 3
   },
   "file_extension": ".py",
   "mimetype": "text/x-python",
   "name": "python",
   "nbconvert_exporter": "python",
   "pygments_lexer": "ipython3",
   "version": "3.6.8"
  },
  "varInspector": {
   "cols": {
    "lenName": 16,
    "lenType": 16,
    "lenVar": 40
   },
   "kernels_config": {
    "python": {
     "delete_cmd_postfix": "",
     "delete_cmd_prefix": "del ",
     "library": "var_list.py",
     "varRefreshCmd": "print(var_dic_list())"
    },
    "r": {
     "delete_cmd_postfix": ") ",
     "delete_cmd_prefix": "rm(",
     "library": "var_list.r",
     "varRefreshCmd": "cat(var_dic_list()) "
    }
   },
   "types_to_exclude": [
    "module",
    "function",
    "builtin_function_or_method",
    "instance",
    "_Feature"
   ],
   "window_display": false
  }
 },
 "nbformat": 4,
 "nbformat_minor": 2
}
