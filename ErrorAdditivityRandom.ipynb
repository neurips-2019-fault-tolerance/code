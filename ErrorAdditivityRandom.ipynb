{
 "cells": [
  {
   "cell_type": "code",
   "execution_count": 2,
   "metadata": {
    "ExecuteTime": {
     "end_time": "2019-01-20T20:05:16.422497Z",
     "start_time": "2019-01-20T20:05:16.405558Z"
    }
   },
   "outputs": [
    {
     "name": "stdout",
     "output_type": "stream",
     "text": [
      "The autoreload extension is already loaded. To reload it, use:\n",
      "  %reload_ext autoreload\n"
     ]
    }
   ],
   "source": [
    "%load_ext autoreload\n",
    "%autoreload 2\n",
    "%matplotlib inline\n",
    "from helpers import *\n",
    "from matplotlib import pyplot as plt\n",
    "import numpy as np\n",
    "from experiment_random import *\n",
    "import pandas as pd\n",
    "import seaborn as sns\n",
    "import matplotlib\n",
    "import pickle"
   ]
  },
  {
   "cell_type": "code",
   "execution_count": 3,
   "metadata": {
    "ExecuteTime": {
     "end_time": "2019-01-20T20:05:16.756061Z",
     "start_time": "2019-01-20T20:05:16.744790Z"
    }
   },
   "outputs": [],
   "source": [
    "# probability of failure\n",
    "p = 1e-2\n",
    "\n",
    "# layers configuration\n",
    "N = [50, 51, 52, 53]\n",
    "\n",
    "# some inputs to test on\n",
    "np.random.seed(42)\n",
    "data = np.random.randn(5, N[0]) + 0.1"
   ]
  },
  {
   "cell_type": "code",
   "execution_count": 4,
   "metadata": {
    "ExecuteTime": {
     "end_time": "2019-01-20T20:05:17.354402Z",
     "start_time": "2019-01-20T20:05:17.341609Z"
    }
   },
   "outputs": [],
   "source": [
    "def compute_error_for_crashes(fail_layers, repetitions = 10000, seed = 42):\n",
    "    \"\"\" Compute error on data experimentally if layers from\n",
    "        fail_layers are crashed, return mean and std\n",
    "    \"\"\"\n",
    "    \n",
    "    # sanity check\n",
    "    assert(len(fail_layers) == len(N))\n",
    "    \n",
    "    # obtaining p_inference: failing layers from fail_layers\n",
    "    p_inference = [p if fail_layers[i] else 0 for i in range(len(fail_layers))]\n",
    "    \n",
    "    # fixing the random seed to obtain the same weights each time\n",
    "    np.random.seed(seed)\n",
    "    \n",
    "    # creating the experiment\n",
    "    exp = RandomExperiment(N, p_inference = p_inference, activation = 'relu',\n",
    "                           std_weight = 3, mean_weight = 0.1, do_print = False)\n",
    "    \n",
    "    # computing error manually\n",
    "    errors = exp.compute_error(data, repetitions = repetitions)\n",
    "    \n",
    "    # returning mean and std\n",
    "    return np.mean(errors, axis = 1), np.std(errors, axis = 1) ** 2"
   ]
  },
  {
   "cell_type": "code",
   "execution_count": 5,
   "metadata": {
    "ExecuteTime": {
     "end_time": "2019-01-20T20:05:17.520387Z",
     "start_time": "2019-01-20T20:05:17.508234Z"
    }
   },
   "outputs": [],
   "source": [
    "def boolean_cube(size):\n",
    "    \"\"\" Return a boolean cube of length size \"\"\"\n",
    "    if size == 1:\n",
    "        return [[0], [1]]\n",
    "    else:\n",
    "        r = boolean_cube(size - 1)\n",
    "        return [[0] + x for x in r] + [[1] + x for x in r]"
   ]
  },
  {
   "cell_type": "code",
   "execution_count": 6,
   "metadata": {
    "ExecuteTime": {
     "end_time": "2019-01-20T20:05:17.704670Z",
     "start_time": "2019-01-20T20:05:17.693927Z"
    }
   },
   "outputs": [],
   "source": [
    "# sanity check\n",
    "assert boolean_cube(2) == [[0, 0], [0, 1], [1, 0], [1, 1]], \"Boolean cube must return the correct value\""
   ]
  },
  {
   "cell_type": "code",
   "execution_count": 7,
   "metadata": {
    "ExecuteTime": {
     "end_time": "2019-01-20T20:05:17.883635Z",
     "start_time": "2019-01-20T20:05:17.871907Z"
    }
   },
   "outputs": [],
   "source": [
    "# obtaining boolean cube (fail all possible layer configurations, including input)\n",
    "cube = boolean_cube(len(N))\n",
    "cube = [tuple(x) for x in cube]"
   ]
  },
  {
   "cell_type": "code",
   "execution_count": 7,
   "metadata": {
    "ExecuteTime": {
     "end_time": "2019-01-20T19:55:29.622297Z",
     "start_time": "2019-01-20T19:49:44.721332Z"
    },
    "deletable": false,
    "editable": false,
    "run_control": {
     "frozen": true
    }
   },
   "outputs": [
    {
     "name": "stderr",
     "output_type": "stream",
     "text": [
      "100%|██████████| 16/16 [05:44<00:00, 22.01s/it]\n"
     ]
    }
   ],
   "source": [
    "# obtaining data for each configuration\n",
    "results = {conf: compute_error_for_crashes(conf, repetitions = 50000) for conf in tqdm(cube)}"
   ]
  },
  {
   "cell_type": "code",
   "execution_count": 8,
   "metadata": {
    "ExecuteTime": {
     "end_time": "2019-01-20T20:05:18.556226Z",
     "start_time": "2019-01-20T20:05:18.543393Z"
    }
   },
   "outputs": [],
   "source": [
    "fn = 'ErrorAdditivityRandom.pkl'"
   ]
  },
  {
   "cell_type": "code",
   "execution_count": 11,
   "metadata": {
    "ExecuteTime": {
     "end_time": "2019-01-20T19:55:47.836716Z",
     "start_time": "2019-01-20T19:55:47.824474Z"
    },
    "deletable": false,
    "editable": false,
    "run_control": {
     "frozen": true
    }
   },
   "outputs": [],
   "source": [
    "# save data to pickle file\n",
    "pickle.dump(results, open(fn, 'wb'))"
   ]
  },
  {
   "cell_type": "code",
   "execution_count": 9,
   "metadata": {
    "ExecuteTime": {
     "end_time": "2019-01-20T20:05:19.521094Z",
     "start_time": "2019-01-20T20:05:19.509384Z"
    }
   },
   "outputs": [],
   "source": [
    "# load data from pickle file\n",
    "results = pickle.load(open(fn, 'rb'))"
   ]
  },
  {
   "cell_type": "code",
   "execution_count": 10,
   "metadata": {
    "ExecuteTime": {
     "end_time": "2019-01-20T20:05:19.870551Z",
     "start_time": "2019-01-20T20:05:19.852378Z"
    }
   },
   "outputs": [],
   "source": [
    "def disjoint(a, b):\n",
    "    \"\"\" Returns true iff configurations a and b are disjoint \"\"\"\n",
    "    for x, y in zip(a, b):\n",
    "        if x and y: return False\n",
    "    return True\n",
    "\n",
    "def s(a, b):\n",
    "    \"\"\" Returns the sum of tuples, element-wise \"\"\"\n",
    "    return tuple([x + y for x, y in zip(a, b)])\n",
    "\n",
    "def leq(a, b):\n",
    "    \"\"\" True iff a <= b lexicographically \"\"\"\n",
    "    for x, y in zip(a, b):\n",
    "        if x > y: return False\n",
    "        if x < y: return True\n",
    "    return True"
   ]
  },
  {
   "cell_type": "code",
   "execution_count": 11,
   "metadata": {
    "ExecuteTime": {
     "end_time": "2019-01-20T20:05:20.383373Z",
     "start_time": "2019-01-20T20:05:20.370000Z"
    }
   },
   "outputs": [],
   "source": [
    "all_mean = []\n",
    "all_std = []\n",
    "# loop over the cube\n",
    "for a in cube:\n",
    "    # second loop over the cube\n",
    "    for b in cube:\n",
    "        # if a and b are disjoint and a <= b and a is not trivial\n",
    "        if disjoint(a, b) and leq(a, b) and a != (0,0,0,0):\n",
    "            # sum of a, b\n",
    "            c = s(a, b)\n",
    "            \n",
    "            # a: mean and std\n",
    "            da_mean, da_std = results[a]\n",
    "            \n",
    "            # b: mean and std\n",
    "            db_mean, db_std = results[b]\n",
    "            \n",
    "            # sum(a, b): mean and std\n",
    "            dc_mean, dc_std = results[c]\n",
    "            \n",
    "            # difference in mean from linearity\n",
    "            dx_mean = dc_mean - da_mean - db_mean\n",
    "            \n",
    "            # difference in std from linearity\n",
    "            dx_std  = dc_std - da_std - db_std\n",
    "            \n",
    "            # printing results\n",
    "            all_mean += [np.linalg.norm(dx_mean) / np.linalg.norm(dc_mean)]\n",
    "            all_std  += [np.linalg.norm(dx_std)/ np.linalg.norm(dc_std)]"
   ]
  },
  {
   "cell_type": "code",
   "execution_count": 15,
   "metadata": {
    "ExecuteTime": {
     "end_time": "2019-01-20T20:05:43.797079Z",
     "start_time": "2019-01-20T20:05:43.504898Z"
    }
   },
   "outputs": [
    {
     "data": {
      "image/png": "[encoded data removed]",
      "text/plain": [
       "<Figure size 576x72 with 1 Axes>"
      ]
     },
     "metadata": {
      "needs_background": "light"
     },
     "output_type": "display_data"
    }
   ],
   "source": [
    "plt.figure(figsize=(8,1))\n",
    "font = {'family' : 'normal',\n",
    "        'weight' : 'normal',\n",
    "        'size'   : 20}\n",
    "\n",
    "matplotlib.rc('font', **font)\n",
    "\n",
    "#plt.title('Mean and std$^2$: deviation from linearity for p = %.2f' % p)\n",
    "plt.hist(np.array(all_mean) * 100, alpha = 0.8, label = 'mean')\n",
    "plt.hist(np.array(all_std) * 100, alpha = 0.8, label = 'variance')\n",
    "plt.xlabel('$\\|\\Delta_{a\\cup b}-\\Delta_a-\\Delta_b\\|$, %')\n",
    "plt.ylabel('Frq /%d' % len(all_mean))\n",
    "plt.legend()\n",
    "plt.savefig('figures/error_additivity_mean_std.pdf', bbox_inches = 'tight')\n",
    "plt.show()"
   ]
  },
  {
   "cell_type": "code",
   "execution_count": null,
   "metadata": {},
   "outputs": [],
   "source": []
  }
 ],
 "metadata": {
  "kernelspec": {
   "display_name": "Python 3",
   "language": "python",
   "name": "python3"
  },
  "language_info": {
   "codemirror_mode": {
    "name": "ipython",
    "version": 3
   },
   "file_extension": ".py",
   "mimetype": "text/x-python",
   "name": "python",
   "nbconvert_exporter": "python",
   "pygments_lexer": "ipython3",
   "version": "3.6.6"
  },
  "varInspector": {
   "cols": {
    "lenName": 16,
    "lenType": 16,
    "lenVar": 40
   },
   "kernels_config": {
    "python": {
     "delete_cmd_postfix": "",
     "delete_cmd_prefix": "del ",
     "library": "var_list.py",
     "varRefreshCmd": "print(var_dic_list())"
    },
    "r": {
     "delete_cmd_postfix": ") ",
     "delete_cmd_prefix": "rm(",
     "library": "var_list.r",
     "varRefreshCmd": "cat(var_dic_list()) "
    }
   },
   "types_to_exclude": [
    "module",
    "function",
    "builtin_function_or_method",
    "instance",
    "_Feature"
   ],
   "window_display": false
  }
 },
 "nbformat": 4,
 "nbformat_minor": 2
}
