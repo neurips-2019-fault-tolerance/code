{
 "cells": [
  {
   "cell_type": "code",
   "execution_count": 1,
   "metadata": {
    "ExecuteTime": {
     "end_time": "2019-01-20T20:09:48.283910Z",
     "start_time": "2019-01-20T20:09:46.461938Z"
    }
   },
   "outputs": [
    {
     "name": "stderr",
     "output_type": "stream",
     "text": [
      "Using TensorFlow backend.\n"
     ]
    },
    {
     "name": "stdout",
     "output_type": "stream",
     "text": [
      "Initialized TensorFlow\n"
     ]
    }
   ],
   "source": [
    "#!rm -rf code\n",
    "#!git clone https://xxxx/yyyy.git code\n",
    "#!mv code/* .\n",
    "%load_ext autoreload\n",
    "%autoreload 2\n",
    "%matplotlib inline\n",
    "from helpers import *\n",
    "from matplotlib import pyplot as plt\n",
    "import numpy as np\n",
    "from experiment_datasets import *\n",
    "import pandas as pd\n",
    "import seaborn as sns\n",
    "import pickle\n",
    "from IPython.display import clear_output\n",
    "import matplotlib\n",
    "from scipy.optimize import curve_fit"
   ]
  },
  {
   "cell_type": "markdown",
   "metadata": {},
   "source": [
    "### Fixed single Boston experiment for all dataset as points"
   ]
  },
  {
   "cell_type": "code",
   "execution_count": 2,
   "metadata": {
    "ExecuteTime": {
     "end_time": "2019-01-20T20:09:48.298982Z",
     "start_time": "2019-01-20T20:09:48.285384Z"
    }
   },
   "outputs": [],
   "source": [
    "font = {'family' : 'normal',\n",
    "        'weight' : 'normal',\n",
    "        'size'   : 20}\n",
    "matplotlib.rc('font', **font)"
   ]
  },
  {
   "cell_type": "code",
   "execution_count": 3,
   "metadata": {
    "ExecuteTime": {
     "end_time": "2019-01-20T20:09:48.298982Z",
     "start_time": "2019-01-20T20:09:48.285384Z"
    }
   },
   "outputs": [],
   "source": [
    "# pfailure for the first layer\n",
    "p = 1e-2\n",
    "np.random.seed(42)"
   ]
  },
  {
   "cell_type": "code",
   "execution_count": 4,
   "metadata": {
    "ExecuteTime": {
     "end_time": "2019-01-20T20:09:50.215678Z",
     "start_time": "2019-01-20T20:09:48.300332Z"
    }
   },
   "outputs": [],
   "source": [
    "N = 50"
   ]
  },
  {
   "cell_type": "code",
   "execution_count": 5,
   "metadata": {
    "ExecuteTime": {
     "end_time": "2019-01-20T20:09:50.215678Z",
     "start_time": "2019-01-20T20:09:48.300332Z"
    }
   },
   "outputs": [
    {
     "name": "stderr",
     "output_type": "stream",
     "text": [
      "/localhome/dfdf/miniconda3/envs/neuronfailure/lib/python3.6/site-packages/matplotlib/font_manager.py:1241: UserWarning: findfont: Font family ['normal'] not found. Falling back to DejaVu Sans.\n",
      "  (prop.get_family(), self.defaultFamily[fontext]))\n"
     ]
    },
    {
     "data": {
      "image/png": "[encoded data removed]",
      "text/plain": [
       "<Figure size 432x288 with 1 Axes>"
      ]
     },
     "metadata": {
      "needs_background": "light"
     },
     "output_type": "display_data"
    }
   ],
   "source": [
    "# Train a network with given h1 size and compute mean FT variance\n",
    "K.clear_session()\n",
    "    \n",
    "# run with random weights and multiple inputs\n",
    "exp = BostonHousingExperiment(N = [N, 49], p_inference = [0, p, 0, 0], seed = int(np.random.random() * 100000),\n",
    "                                  activation = 'sigmoid', epochs = 200, do_print = 'plot',\n",
    "                                  reg_coeff = 0, reg_type = 'l2')"
   ]
  },
  {
   "cell_type": "code",
   "execution_count": 6,
   "metadata": {
    "ExecuteTime": {
     "end_time": "2019-01-20T20:09:50.215678Z",
     "start_time": "2019-01-20T20:09:48.300332Z"
    }
   },
   "outputs": [],
   "source": [
    "# obtaining data points\n",
    "data = exp.x_train, exp.y_train#exp.get_inputs_outputs('all')"
   ]
  },
  {
   "cell_type": "code",
   "execution_count": 7,
   "metadata": {},
   "outputs": [
    {
     "name": "stdout",
     "output_type": "stream",
     "text": [
      "variance loss error 25.333652\n"
     ]
    }
   ],
   "source": [
    "var_loss = np.mean(exp._get_bound_b3_loss(*data)['std'] ** 2)\n",
    "print('variance loss error', var_loss)"
   ]
  },
  {
   "cell_type": "code",
   "execution_count": 181,
   "metadata": {},
   "outputs": [
    {
     "data": {
      "text/plain": [
       "(array([ 15.,  48.,  72., 120.,  64.,  31.,  21.,   8.,   8.,  17.]),\n",
       " array([ 5. ,  9.5, 14. , 18.5, 23. , 27.5, 32. , 36.5, 41. , 45.5, 50. ]),\n",
       " <a list of 10 Patch objects>)"
      ]
     },
     "execution_count": 181,
     "metadata": {},
     "output_type": "execute_result"
    },
    {
     "data": {
      "image/png": "[encoded data removed]",
      "text/plain": [
       "<Figure size 432x288 with 1 Axes>"
      ]
     },
     "metadata": {
      "needs_background": "light"
     },
     "output_type": "display_data"
    }
   ],
   "source": [
    "plt.hist(exp.y_train)"
   ]
  },
  {
   "cell_type": "code",
   "execution_count": null,
   "metadata": {},
   "outputs": [],
   "source": []
  },
  {
   "cell_type": "code",
   "execution_count": null,
   "metadata": {},
   "outputs": [],
   "source": []
  },
  {
   "cell_type": "code",
   "execution_count": 8,
   "metadata": {},
   "outputs": [],
   "source": [
    "preact = exp.W[0] @ data[0].T + np.reshape(exp.B[0], (-1, 1))\n",
    "y = exp.activation_fcn(preact)"
   ]
  },
  {
   "cell_type": "code",
   "execution_count": 9,
   "metadata": {},
   "outputs": [],
   "source": [
    "y_norm_max = np.max(np.linalg.norm(y, axis = 0))"
   ]
  },
  {
   "cell_type": "code",
   "execution_count": 10,
   "metadata": {},
   "outputs": [],
   "source": [
    "norm_prod = np.prod([np.linalg.norm(w) for w in exp.W[1:]])"
   ]
  },
  {
   "cell_type": "code",
   "execution_count": 179,
   "metadata": {},
   "outputs": [
    {
     "data": {
      "text/plain": [
       "62.6493"
      ]
     },
     "execution_count": 179,
     "metadata": {},
     "output_type": "execute_result"
    }
   ],
   "source": [
    "norm_prod"
   ]
  },
  {
   "cell_type": "code",
   "execution_count": 176,
   "metadata": {},
   "outputs": [],
   "source": [
    "# TODO: do spectral bound for variance (now just estimate)\n",
    "spectral_bound = p * norm_prod ** 2 * y_norm_max ** 2"
   ]
  },
  {
   "cell_type": "code",
   "execution_count": 177,
   "metadata": {},
   "outputs": [
    {
     "data": {
      "text/plain": [
       "1255.8186658955244"
      ]
     },
     "execution_count": 177,
     "metadata": {},
     "output_type": "execute_result"
    }
   ],
   "source": [
    "spectral_bound"
   ]
  },
  {
   "cell_type": "code",
   "execution_count": 14,
   "metadata": {},
   "outputs": [],
   "source": [
    "### TODO: compute using Hoeffding what is the probability of too big error in weights?"
   ]
  },
  {
   "cell_type": "markdown",
   "metadata": {},
   "source": [
    "Hoeffding's inequality [1]: for a set of random variables $x_i\\in[0,a_i]$\n",
    "$$\n",
    "P(X\\geq \\mathbb{E}X+t)\\leq \\exp(\\frac{-2t^2}{\\sum a_i^2})\n",
    "$$\n",
    "\n",
    "[1] https://en.wikipedia.org/wiki/Hoeffding%27s_inequality"
   ]
  },
  {
   "cell_type": "code",
   "execution_count": 113,
   "metadata": {},
   "outputs": [
    {
     "name": "stdout",
     "output_type": "stream",
     "text": [
      "mean loss error 0.037543956\n"
     ]
    }
   ],
   "source": [
    "print('mean loss error', np.mean(exp._get_bound_b3_loss(*data)['mean']))"
   ]
  },
  {
   "cell_type": "code",
   "execution_count": 24,
   "metadata": {},
   "outputs": [],
   "source": [
    "crash_weights = np.linalg.norm(exp.W[1], axis = 0) ** 2"
   ]
  },
  {
   "cell_type": "code",
   "execution_count": 25,
   "metadata": {},
   "outputs": [
    {
     "data": {
      "text/plain": [
       "(array([18., 24.,  4.,  2.,  0.,  0.,  1.,  0.,  0.,  1.]),\n",
       " array([1.3058146, 1.8190122, 2.3322098, 2.8454072, 3.358605 , 3.8718026,\n",
       "        4.385    , 4.8981977, 5.411395 , 5.924593 , 6.4377904],\n",
       "       dtype=float32),\n",
       " <a list of 10 Patch objects>)"
      ]
     },
     "execution_count": 25,
     "metadata": {},
     "output_type": "execute_result"
    },
    {
     "data": {
      "image/png": "[encoded data removed]",
      "text/plain": [
       "<Figure size 432x288 with 1 Axes>"
      ]
     },
     "metadata": {
      "needs_background": "light"
     },
     "output_type": "display_data"
    }
   ],
   "source": [
    "plt.hist(crash_weights)"
   ]
  },
  {
   "cell_type": "code",
   "execution_count": 27,
   "metadata": {},
   "outputs": [],
   "source": [
    "d = len(crash_weights)"
   ]
  },
  {
   "cell_type": "code",
   "execution_count": 81,
   "metadata": {},
   "outputs": [],
   "source": [
    "total = np.sum(crash_weights)"
   ]
  },
  {
   "cell_type": "code",
   "execution_count": 62,
   "metadata": {},
   "outputs": [],
   "source": [
    "random_var = lambda : np.dot(crash_weights, np.random.rand(d) <= p)"
   ]
  },
  {
   "cell_type": "code",
   "execution_count": 110,
   "metadata": {},
   "outputs": [],
   "source": [
    "repetitions = 100000"
   ]
  },
  {
   "cell_type": "code",
   "execution_count": 132,
   "metadata": {},
   "outputs": [],
   "source": [
    "x = np.array([random_var() for _ in range(repetitions)])"
   ]
  },
  {
   "cell_type": "code",
   "execution_count": 133,
   "metadata": {},
   "outputs": [
    {
     "data": {
      "text/plain": [
       "1.0525943"
      ]
     },
     "execution_count": 133,
     "metadata": {},
     "output_type": "execute_result"
    }
   ],
   "source": [
    "np.mean(x)"
   ]
  },
  {
   "cell_type": "code",
   "execution_count": 134,
   "metadata": {},
   "outputs": [
    {
     "data": {
      "text/plain": [
       "(array([6.3366e+04, 2.6561e+04, 5.7190e+03, 2.3860e+03, 1.3580e+03,\n",
       "        4.4500e+02, 1.0300e+02, 5.0000e+01, 1.0000e+01, 2.0000e+00]),\n",
       " array([ 0.       ,  1.4817454,  2.9634907,  4.445236 ,  5.9269814,\n",
       "         7.4087267,  8.890472 , 10.372217 , 11.853963 , 13.335708 ,\n",
       "        14.817453 ], dtype=float32),\n",
       " <a list of 10 Patch objects>)"
      ]
     },
     "execution_count": 134,
     "metadata": {},
     "output_type": "execute_result"
    },
    {
     "data": {
      "image/png": "[encoded data removed]",
      "text/plain": [
       "<Figure size 432x288 with 1 Axes>"
      ]
     },
     "metadata": {
      "needs_background": "light"
     },
     "output_type": "display_data"
    }
   ],
   "source": [
    "plt.hist(x)"
   ]
  },
  {
   "cell_type": "code",
   "execution_count": 158,
   "metadata": {},
   "outputs": [
    {
     "name": "stdout",
     "output_type": "stream",
     "text": [
      "P(x >= Ex + eps) <= delta\n",
      "eps = 2 delta = 0.09907\n"
     ]
    }
   ],
   "source": [
    "threshold = 2\n",
    "exp_proba = np.mean(x - np.mean(x) >= threshold)\n",
    "print('P(x >= Ex + eps) <= delta')\n",
    "print('eps =', threshold, 'delta =', exp_proba)"
   ]
  },
  {
   "cell_type": "code",
   "execution_count": 159,
   "metadata": {},
   "outputs": [
    {
     "data": {
      "text/plain": [
       "0.9690530584023419"
      ]
     },
     "execution_count": 159,
     "metadata": {},
     "output_type": "execute_result"
    }
   ],
   "source": [
    "# Hoeffding bound -- not tight?\n",
    "np.exp(-2 * threshold ** 2 / np.linalg.norm(crash_weights) ** 2)"
   ]
  },
  {
   "cell_type": "code",
   "execution_count": 160,
   "metadata": {},
   "outputs": [
    {
     "data": {
      "text/plain": [
       "254.48600973597786"
      ]
     },
     "execution_count": 160,
     "metadata": {},
     "output_type": "execute_result"
    }
   ],
   "source": [
    "np.linalg.norm(crash_weights) ** 2"
   ]
  },
  {
   "cell_type": "code",
   "execution_count": 161,
   "metadata": {},
   "outputs": [
    {
     "data": {
      "text/plain": [
       "0.6284363095728764"
      ]
     },
     "execution_count": 161,
     "metadata": {},
     "output_type": "execute_result"
    }
   ],
   "source": [
    "np.std(x) ** 2 / threshold ** 2"
   ]
  },
  {
   "cell_type": "code",
   "execution_count": 162,
   "metadata": {},
   "outputs": [],
   "source": [
    "# Chernoff:\n",
    "x = 1. * np.random.rand(100000) <= p"
   ]
  },
  {
   "cell_type": "code",
   "execution_count": 165,
   "metadata": {},
   "outputs": [],
   "source": [
    "random_var = lambda : np.dot(np.ones(d), np.random.rand(d) <= p)"
   ]
  },
  {
   "cell_type": "code",
   "execution_count": 175,
   "metadata": {},
   "outputs": [
    {
     "name": "stdout",
     "output_type": "stream",
     "text": [
      "0.49896\n"
     ]
    },
    {
     "data": {
      "image/png": "[encoded data removed]",
      "text/plain": [
       "<Figure size 432x288 with 1 Axes>"
      ]
     },
     "metadata": {
      "needs_background": "light"
     },
     "output_type": "display_data"
    }
   ],
   "source": [
    "repetitions = 100000\n",
    "x = np.array([random_var() for _ in range(repetitions)])\n",
    "plt.hist(x)\n",
    "print(np.mean(x))"
   ]
  },
  {
   "cell_type": "markdown",
   "metadata": {},
   "source": [
    "**Statement 1:** as $n\\to\\infty$, there is a threshold after which $P(|U|^2\\geq (\\varepsilon+p)|W|^2)\\leq e^{-\\varepsilon^2 (|W|^2)^2/|W|^4}\\sim e^{-\\varepsilon^2 n}$, so this decays exponentially with $n$ and $|W_1|\\cdot...\\cdot|W_n|$ increases polynomially. So the \"bad\" part can be made arbitrarily small by choosing sufficient order of $n$\n",
    "\n",
    "And this gives an estimate $n\\sim 1/p^2$. Is this too much? How to get $1/p$?\n",
    "\n",
    "Here it also must be true that $\\varepsilon+p\\approx\\varepsilon$, in other words, it doesn't make sense to take $\\varepsilon < p$.\n",
    "\n",
    "Is it true that a more tight spectral bound is not required?"
   ]
  },
  {
   "cell_type": "markdown",
   "metadata": {},
   "source": [
    "**Statement 2:** if the bad part is low enough, variance is linear in number of failed neurons: $Var\\Delta\\sim p/n$. So to make $P(\\Delta + \\mathbb{E}\\Delta \\geq L)\\leq \\frac{Var\\Delta}{L^2}=\\delta$ it is required to set\n",
    "$$\n",
    "n\\geq p\\frac{|W|^2\\mathbb{E}_x|\\frac{\\partial L}{\\partial W}|^2}{\\delta L^2}\n",
    "$$"
   ]
  },
  {
   "cell_type": "markdown",
   "metadata": {},
   "source": [
    "Is it too pessimistic? Is Chernoff bound required?"
   ]
  },
  {
   "cell_type": "markdown",
   "metadata": {},
   "source": [
    "For Chernoff, need to have $p_{bad}e^{\\Delta_\\max}<1$ which is exponential and unlikely... how to fix it? Otherwise can use linear Taylor and then it's easily computed. How to deal with $e^{rest}$? Can just say limit to $f/n<\\alpha$, then still can have Taylor remainder...\n",
    "\n",
    "For $\\alpha^2$: Need to show that $\\alpha^2 |L''|$ is small... And for that need $\\alpha\\sim 1/|L''|$."
   ]
  },
  {
   "cell_type": "code",
   "execution_count": null,
   "metadata": {},
   "outputs": [],
   "source": []
  }
 ],
 "metadata": {
  "kernelspec": {
   "display_name": "Python 3",
   "language": "python",
   "name": "python3"
  },
  "language_info": {
   "codemirror_mode": {
    "name": "ipython",
    "version": 3
   },
   "file_extension": ".py",
   "mimetype": "text/x-python",
   "name": "python",
   "nbconvert_exporter": "python",
   "pygments_lexer": "ipython3",
   "version": "3.6.8"
  },
  "varInspector": {
   "cols": {
    "lenName": 16,
    "lenType": 16,
    "lenVar": 40
   },
   "kernels_config": {
    "python": {
     "delete_cmd_postfix": "",
     "delete_cmd_prefix": "del ",
     "library": "var_list.py",
     "varRefreshCmd": "print(var_dic_list())"
    },
    "r": {
     "delete_cmd_postfix": ") ",
     "delete_cmd_prefix": "rm(",
     "library": "var_list.r",
     "varRefreshCmd": "cat(var_dic_list()) "
    }
   },
   "types_to_exclude": [
    "module",
    "function",
    "builtin_function_or_method",
    "instance",
    "_Feature"
   ],
   "window_display": false
  }
 },
 "nbformat": 4,
 "nbformat_minor": 2
}
