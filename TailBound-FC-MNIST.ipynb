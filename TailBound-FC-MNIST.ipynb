{
 "cells": [
  {
   "cell_type": "code",
   "execution_count": 1,
   "metadata": {
    "ExecuteTime": {
     "end_time": "2019-01-20T20:13:59.673640Z",
     "start_time": "2019-01-20T20:13:57.997310Z"
    }
   },
   "outputs": [
    {
     "name": "stderr",
     "output_type": "stream",
     "text": [
      "Using TensorFlow backend.\n"
     ]
    },
    {
     "name": "stdout",
     "output_type": "stream",
     "text": [
      "Initialized TensorFlow\n"
     ]
    }
   ],
   "source": [
    "%load_ext autoreload\n",
    "%autoreload 2\n",
    "%matplotlib inline\n",
    "from experiment_train import *\n",
    "from experiment_datasets import *\n",
    "from helpers import *\n",
    "from tqdm import tqdm\n",
    "import matplotlib"
   ]
  },
  {
   "cell_type": "markdown",
   "metadata": {
    "ExecuteTime": {
     "end_time": "2019-01-20T20:13:59.823133Z",
     "start_time": "2019-01-20T20:13:59.812310Z"
    }
   },
   "source": [
    "Problem: Taylor is WAY OFF for $np>1$...\n",
    "\n",
    "Hypothesis: need to add second term to the mean as only MEAN is off and variance is fine.\n",
    "Need to calculate $L''_{ii}$, diagonal of the Hessian\n",
    "\n",
    "A bit better (for second layer) with it...."
   ]
  },
  {
   "cell_type": "code",
   "execution_count": 26,
   "metadata": {
    "ExecuteTime": {
     "end_time": "2019-01-20T20:13:59.823133Z",
     "start_time": "2019-01-20T20:13:59.812310Z"
    }
   },
   "outputs": [],
   "source": [
    "# network configuration\n",
    "N = [100, 100]\n",
    "\n",
    "def get_p_arr(p):\n",
    "    \"\"\" p array with failure on the first layer \"\"\"\n",
    "    return [0, p]  + [0] * (len(N))\n",
    "\n",
    "# prob. of failure at inference\n",
    "p_inf = 1e-5\n",
    "p_inference = get_p_arr(p_inf)\n",
    "\n",
    "# prob. of failure at train\n",
    "p_trains = np.linspace(0, 1.2 * p_inf, 10)\n",
    "\n",
    "# Lips. coeff\n",
    "KLips = 1.\n",
    "\n",
    "# activation function\n",
    "activation = 'sigmoid'\n",
    "\n",
    "# number of repeats for error estimation\n",
    "# see below for explanation\n",
    "repetitions = 6\n",
    "\n",
    "# number of runs for each p\n",
    "runs = 10"
   ]
  },
  {
   "cell_type": "code",
   "execution_count": 27,
   "metadata": {},
   "outputs": [
    {
     "name": "stdout",
     "output_type": "stream",
     "text": [
      "_________________________________________________________________\n",
      "Layer (type)                 Output Shape              Param #   \n",
      "=================================================================\n",
      "dense_1 (Dense)              (None, 100)               78500     \n",
      "_________________________________________________________________\n",
      "dense_2 (Dense)              (None, 100)               10100     \n",
      "_________________________________________________________________\n",
      "dense_3 (Dense)              (None, 10)                1010      \n",
      "=================================================================\n",
      "Total params: 89,610\n",
      "Trainable params: 89,610\n",
      "Non-trainable params: 0\n",
      "_________________________________________________________________\n",
      "Train on 60000 samples, validate on 10000 samples\n",
      "Epoch 1/10\n",
      "60000/60000 [==============================] - 1s 20us/step - loss: 0.2449 - categorical_accuracy: 0.8003 - mean_squared_error: 0.0473 - mean_absolute_error: 0.1386 - val_loss: 0.1097 - val_categorical_accuracy: 0.8862 - val_mean_squared_error: 0.0305 - val_mean_absolute_error: 0.1188\n",
      "Epoch 2/10\n",
      "60000/60000 [==============================] - 1s 15us/step - loss: 0.0777 - categorical_accuracy: 0.8873 - mean_squared_error: 0.0275 - mean_absolute_error: 0.1068 - val_loss: 0.0576 - val_categorical_accuracy: 0.9006 - val_mean_squared_error: 0.0232 - val_mean_absolute_error: 0.0916\n",
      "Epoch 3/10\n",
      "60000/60000 [==============================] - 1s 15us/step - loss: 0.0552 - categorical_accuracy: 0.8923 - mean_squared_error: 0.0259 - mean_absolute_error: 0.1014 - val_loss: 0.0504 - val_categorical_accuracy: 0.9021 - val_mean_squared_error: 0.0245 - val_mean_absolute_error: 0.0974\n",
      "Epoch 4/10\n",
      "60000/60000 [==============================] - 1s 15us/step - loss: 0.0495 - categorical_accuracy: 0.8955 - mean_squared_error: 0.0251 - mean_absolute_error: 0.0985 - val_loss: 0.0466 - val_categorical_accuracy: 0.9023 - val_mean_squared_error: 0.0233 - val_mean_absolute_error: 0.0931\n",
      "Epoch 5/10\n",
      "60000/60000 [==============================] - 1s 15us/step - loss: 0.0469 - categorical_accuracy: 0.8972 - mean_squared_error: 0.0243 - mean_absolute_error: 0.0960 - val_loss: 0.0435 - val_categorical_accuracy: 0.9064 - val_mean_squared_error: 0.0215 - val_mean_absolute_error: 0.0827\n",
      "Epoch 6/10\n",
      "60000/60000 [==============================] - 1s 15us/step - loss: 0.0453 - categorical_accuracy: 0.8985 - mean_squared_error: 0.0237 - mean_absolute_error: 0.0930 - val_loss: 0.0421 - val_categorical_accuracy: 0.9141 - val_mean_squared_error: 0.0210 - val_mean_absolute_error: 0.0862\n",
      "Epoch 7/10\n",
      "60000/60000 [==============================] - 1s 15us/step - loss: 0.0442 - categorical_accuracy: 0.8997 - mean_squared_error: 0.0232 - mean_absolute_error: 0.0914 - val_loss: 0.0422 - val_categorical_accuracy: 0.9129 - val_mean_squared_error: 0.0215 - val_mean_absolute_error: 0.0881\n",
      "Epoch 8/10\n",
      "60000/60000 [==============================] - 1s 15us/step - loss: 0.0435 - categorical_accuracy: 0.9003 - mean_squared_error: 0.0229 - mean_absolute_error: 0.0898 - val_loss: 0.0438 - val_categorical_accuracy: 0.9027 - val_mean_squared_error: 0.0233 - val_mean_absolute_error: 0.0973\n",
      "Epoch 9/10\n",
      "60000/60000 [==============================] - 1s 15us/step - loss: 0.0428 - categorical_accuracy: 0.9023 - mean_squared_error: 0.0225 - mean_absolute_error: 0.0884 - val_loss: 0.0430 - val_categorical_accuracy: 0.9040 - val_mean_squared_error: 0.0229 - val_mean_absolute_error: 0.0910\n",
      "Epoch 10/10\n",
      "60000/60000 [==============================] - 1s 15us/step - loss: 0.0424 - categorical_accuracy: 0.9021 - mean_squared_error: 0.0223 - mean_absolute_error: 0.0872 - val_loss: 0.0428 - val_categorical_accuracy: 0.9031 - val_mean_squared_error: 0.0228 - val_mean_absolute_error: 0.0919\n"
     ]
    },
    {
     "data": {
      "image/png": "[encoded data removed]",
      "text/plain": [
       "<Figure size 432x288 with 1 Axes>"
      ]
     },
     "metadata": {
      "needs_background": "light"
     },
     "output_type": "display_data"
    },
    {
     "name": "stdout",
     "output_type": "stream",
     "text": [
      "Creating network for 784-dimensional input and 10-dimensional output, with 2 hidden layers\n",
      "_________________________________________________________________\n",
      "Layer (type)                 Output Shape              Param #   \n",
      "=================================================================\n",
      "dense_4 (Dense)              (None, 100)               78500     \n",
      "_________________________________________________________________\n",
      "Crashes (Lambda)             (None, 100)               0         \n",
      "_________________________________________________________________\n",
      "dense_5 (Dense)              (None, 100)               10100     \n",
      "_________________________________________________________________\n",
      "dense_6 (Dense)              (None, 10)                1010      \n",
      "=================================================================\n",
      "Total params: 89,610\n",
      "Trainable params: 89,610\n",
      "Non-trainable params: 0\n",
      "_________________________________________________________________\n",
      "_________________________________________________________________\n",
      "Layer (type)                 Output Shape              Param #   \n",
      "=================================================================\n",
      "dense_7 (Dense)              (None, 100)               78500     \n",
      "_________________________________________________________________\n",
      "dense_8 (Dense)              (None, 100)               10100     \n",
      "_________________________________________________________________\n",
      "dense_9 (Dense)              (None, 10)                1010      \n",
      "=================================================================\n",
      "Total params: 89,610\n",
      "Trainable params: 89,610\n",
      "Non-trainable params: 0\n",
      "_________________________________________________________________\n"
     ]
    }
   ],
   "source": [
    "exp = MNISTExperiment(N = N, p_inference = p_inference, p_train = get_p_arr(0), KLips = KLips, epochs = 10,\n",
    "                                      activation = activation, reg_type = 'l2', reg_coeff = 1e-3, do_print = True,\n",
    "                                      name = 'experiment_weights', seed = None, batch_size = 100)"
   ]
  },
  {
   "cell_type": "code",
   "execution_count": 478,
   "metadata": {},
   "outputs": [],
   "source": [
    "truth = exp.y_train"
   ]
  },
  {
   "cell_type": "code",
   "execution_count": 479,
   "metadata": {},
   "outputs": [],
   "source": [
    "def crashing_loss():\n",
    "    prediction = exp.predict_crashing(exp.x_train, repetitions = 1)\n",
    "    prediction = prediction.reshape(60000, 10)\n",
    "    loss = np.mean(np.square(prediction - truth))\n",
    "    return loss"
   ]
  },
  {
   "cell_type": "code",
   "execution_count": 470,
   "metadata": {},
   "outputs": [],
   "source": [
    "def correct_loss():\n",
    "    prediction = exp.predict_correct(exp.x_train)\n",
    "    #prediction = prediction.reshape(60000, 10)\n",
    "    loss = np.mean(np.square(prediction - truth))\n",
    "    return loss"
   ]
  },
  {
   "cell_type": "code",
   "execution_count": 396,
   "metadata": {},
   "outputs": [],
   "source": [
    "correct = correct_loss()"
   ]
  },
  {
   "cell_type": "code",
   "execution_count": 397,
   "metadata": {},
   "outputs": [
    {
     "name": "stderr",
     "output_type": "stream",
     "text": [
      "100%|██████████| 20/20 [00:19<00:00,  1.04it/s]\n"
     ]
    }
   ],
   "source": [
    "crashing = [crashing_loss() for _ in tqdm(range(20))]"
   ]
  },
  {
   "cell_type": "code",
   "execution_count": 398,
   "metadata": {},
   "outputs": [
    {
     "data": {
      "text/plain": [
       "0.640429319700057"
      ]
     },
     "execution_count": 398,
     "metadata": {},
     "output_type": "execute_result"
    }
   ],
   "source": [
    "correct * 100"
   ]
  },
  {
   "cell_type": "code",
   "execution_count": 480,
   "metadata": {},
   "outputs": [
    {
     "data": {
      "text/plain": [
       "(array([3., 1., 2., 2., 2., 4., 2., 1., 1., 2.]),\n",
       " array([0.64042332, 0.64043843, 0.64045354, 0.64046865, 0.64048376,\n",
       "        0.64049887, 0.64051398, 0.6405291 , 0.64054421, 0.64055932,\n",
       "        0.64057443]),\n",
       " <a list of 10 Patch objects>)"
      ]
     },
     "execution_count": 480,
     "metadata": {},
     "output_type": "execute_result"
    },
    {
     "data": {
      "image/png": "[encoded data removed]",
      "text/plain": [
       "<Figure size 432x288 with 1 Axes>"
      ]
     },
     "metadata": {
      "needs_background": "light"
     },
     "output_type": "display_data"
    }
   ],
   "source": [
    "plt.hist(np.array(crashing) * 100)"
   ]
  },
  {
   "cell_type": "code",
   "execution_count": 481,
   "metadata": {},
   "outputs": [],
   "source": [
    "# computing probability delta of bad crash >= alpha"
   ]
  },
  {
   "cell_type": "code",
   "execution_count": 482,
   "metadata": {},
   "outputs": [
    {
     "name": "stdout",
     "output_type": "stream",
     "text": [
      "2.1850873e-10 119.189575\n"
     ]
    }
   ],
   "source": [
    "def q_factor(array):\n",
    "    \"\"\" q-balanced factor \"\"\"\n",
    "    array = np.abs(array)\n",
    "    assert np.max(array) > 0, \"Cannot compute q-factor for zero array\"\n",
    "        \n",
    "    return np.min(array) / np.max(array)\n",
    "\n",
    "# balancedness\n",
    "q = q_factor(np.linalg.norm(exp.W[1], axis = 1, ord = 1) ** 2)\n",
    "\n",
    "# weight norm\n",
    "Wnorm = np.linalg.norm(exp.W[1].flatten(), ord = 1)\n",
    "\n",
    "# number of neurons\n",
    "n = N[1]\n",
    "\n",
    "# W matrix\n",
    "W = exp.model_correct.layers[1].weights[0]\n",
    "\n",
    "# loss function\n",
    "loss = exp.loss\n",
    "\n",
    "# probability of failure\n",
    "p = p_inf\n",
    "\n",
    "# get TF session\n",
    "sess = get_session()\n",
    "\n",
    "# q-factor\n",
    "print(q, Wnorm)\n",
    "\n",
    "# pseudo-weights\n",
    "W1 = exp.model_correct.layers[1].output"
   ]
  },
  {
   "cell_type": "code",
   "execution_count": 483,
   "metadata": {},
   "outputs": [],
   "source": [
    "def get_feed():\n",
    "    \"\"\" Return feed dictionary for train dataset \"\"\"\n",
    "    return {exp.model_correct.input: exp.x_train, exp.output_tensor: exp.y_train}"
   ]
  },
  {
   "cell_type": "code",
   "execution_count": 510,
   "metadata": {},
   "outputs": [
    {
     "name": "stdout",
     "output_type": "stream",
     "text": [
      "0.006751917012532552\n"
     ]
    }
   ],
   "source": [
    "# M1 ~ loss gradient\n",
    "M_1 = np.linalg.norm(sess.run(tf.multiply(W1, tf.gradients(exp.loss, W1)[0]), get_feed()), ord = 1) / len(exp.x_train)\n",
    "print(M_1)\n",
    "M_0 = 1."
   ]
  },
  {
   "cell_type": "code",
   "execution_count": 512,
   "metadata": {},
   "outputs": [
    {
     "data": {
      "text/plain": [
       "119.189575"
      ]
     },
     "execution_count": 512,
     "metadata": {},
     "output_type": "execute_result"
    }
   ],
   "source": [
    "Wnorm"
   ]
  },
  {
   "cell_type": "code",
   "execution_count": 511,
   "metadata": {},
   "outputs": [
    {
     "name": "stdout",
     "output_type": "stream",
     "text": [
      "3.5196012277701343e-05\n"
     ]
    }
   ],
   "source": [
    "# Maximal Hessian eigenvalue (handwavy)\n",
    "M_2 = 1\n",
    "\n",
    "# maximal alpha\n",
    "alpha_max = 1. / 2 * M_0 / M_2 / Wnorm ** 2\n",
    "\n",
    "# maximal alpha\n",
    "print(alpha_max)"
   ]
  },
  {
   "cell_type": "code",
   "execution_count": 491,
   "metadata": {},
   "outputs": [
    {
     "name": "stdout",
     "output_type": "stream",
     "text": [
      "2.8324276688915037e-05\n"
     ]
    }
   ],
   "source": [
    "# maximal alpha\n",
    "alpha = alpha_max\n",
    "#alpha = max(p, alpha)\n",
    "if alpha > alpha_max:\n",
    "    alpha = alpha_max\n",
    "#alpha = min(alpha, alpha_max)\n",
    "if alpha < p:\n",
    "    alpha = p\n",
    "print(alpha)"
   ]
  },
  {
   "cell_type": "code",
   "execution_count": 492,
   "metadata": {},
   "outputs": [],
   "source": [
    "# target probability to certify\n",
    "delta_0 = 1. / 8"
   ]
  },
  {
   "cell_type": "code",
   "execution_count": 493,
   "metadata": {},
   "outputs": [
    {
     "name": "stdout",
     "output_type": "stream",
     "text": [
      "2.8324276688915037e-05 1e-05\n"
     ]
    }
   ],
   "source": [
    "# certifying low weight perturbation alpha\n",
    "print(alpha, p)\n",
    "assert alpha > p, \"Alpha must be greater than p\""
   ]
  },
  {
   "cell_type": "code",
   "execution_count": 494,
   "metadata": {},
   "outputs": [],
   "source": [
    "# https://en.wikipedia.org/wiki/Binomial_distribution\n",
    "def kl_num(x, y):\n",
    "    \"\"\" KL divergence between numbers \"\"\"\n",
    "    return x * np.log(x / y) + (1 - x) * np.log((1 - x) / (1 - y))"
   ]
  },
  {
   "cell_type": "code",
   "execution_count": 501,
   "metadata": {},
   "outputs": [
    {
     "data": {
      "text/plain": [
       "1.116526371588494e-05"
      ]
     },
     "execution_count": 501,
     "metadata": {},
     "output_type": "execute_result"
    }
   ],
   "source": [
    "kl_num(alpha, p)"
   ]
  },
  {
   "cell_type": "code",
   "execution_count": 498,
   "metadata": {},
   "outputs": [],
   "source": [
    "q = 1\n",
    "delta = np.exp(-n * q * kl_num(alpha, p))"
   ]
  },
  {
   "cell_type": "code",
   "execution_count": 509,
   "metadata": {},
   "outputs": [
    {
     "name": "stdout",
     "output_type": "stream",
     "text": [
      "Certified 0.9988840967120627\n"
     ]
    }
   ],
   "source": [
    "print('Certified', delta)"
   ]
  },
  {
   "cell_type": "code",
   "execution_count": 497,
   "metadata": {},
   "outputs": [
    {
     "ename": "AssertionError",
     "evalue": "Delta must be small enough",
     "output_type": "error",
     "traceback": [
      "\u001b[0;31m---------------------------------------------------------------------------\u001b[0m",
      "\u001b[0;31mAssertionError\u001b[0m                            Traceback (most recent call last)",
      "\u001b[0;32m<ipython-input-497-87233110f836>\u001b[0m in \u001b[0;36m<module>\u001b[0;34m\u001b[0m\n\u001b[0;32m----> 1\u001b[0;31m \u001b[0;32massert\u001b[0m \u001b[0mdelta\u001b[0m \u001b[0;34m<\u001b[0m \u001b[0;36m1.\u001b[0m \u001b[0;34m/\u001b[0m \u001b[0;36m4\u001b[0m\u001b[0;34m,\u001b[0m \u001b[0;34m\"Delta must be small enough\"\u001b[0m\u001b[0;34m\u001b[0m\u001b[0;34m\u001b[0m\u001b[0m\n\u001b[0m",
      "\u001b[0;31mAssertionError\u001b[0m: Delta must be small enough"
     ]
    }
   ],
   "source": [
    "assert delta < 1. / 4, \"Delta must be small enough\""
   ]
  },
  {
   "cell_type": "code",
   "execution_count": 433,
   "metadata": {},
   "outputs": [],
   "source": [
    "# calculating mean and variance using Taylor...\n",
    "err_mean_std = exp._get_bound_b3_loss(exp.x_train, exp.y_train, weights = exp.model_correct.layers[1].output)"
   ]
  },
  {
   "cell_type": "code",
   "execution_count": 434,
   "metadata": {},
   "outputs": [],
   "source": [
    "# mean squared deviation\n",
    "mean_mean = np.mean(err_mean_std['mean'] ** 2)\n",
    "\n",
    "# mean variance\n",
    "mean_std = np.mean(err_mean_std['std'] ** 2)"
   ]
  },
  {
   "cell_type": "code",
   "execution_count": 435,
   "metadata": {},
   "outputs": [
    {
     "data": {
      "text/plain": [
       "1096.1976"
      ]
     },
     "execution_count": 435,
     "metadata": {},
     "output_type": "execute_result"
    }
   ],
   "source": [
    "Wnorm"
   ]
  },
  {
   "cell_type": "code",
   "execution_count": 436,
   "metadata": {},
   "outputs": [],
   "source": [
    "var_total = mean_mean + mean_std"
   ]
  },
  {
   "cell_type": "code",
   "execution_count": 437,
   "metadata": {},
   "outputs": [
    {
     "name": "stdout",
     "output_type": "stream",
     "text": [
      "4.114497952672306e-08\n"
     ]
    }
   ],
   "source": [
    "print(var_total)"
   ]
  },
  {
   "cell_type": "code",
   "execution_count": 438,
   "metadata": {},
   "outputs": [
    {
     "name": "stdout",
     "output_type": "stream",
     "text": [
      "-5.280081732462471e-08 0.00020284074530279778\n",
      "0.006404941863158373 4.257723123923872e-07\n"
     ]
    }
   ],
   "source": [
    "print(np.mean(err_mean_std['mean']), np.mean(err_mean_std['std'] ** 2) ** 0.5)\n",
    "print(np.mean(np.array(crashing)), np.std(crashing))"
   ]
  },
  {
   "cell_type": "code",
   "execution_count": 449,
   "metadata": {},
   "outputs": [],
   "source": [
    "# 2 * variance =\n",
    "delta_L = (var_total) ** 0.5 * 4"
   ]
  },
  {
   "cell_type": "code",
   "execution_count": 450,
   "metadata": {},
   "outputs": [],
   "source": [
    "# total bad loss probability\n",
    "delta_total = var_total / delta_L ** 2 + delta"
   ]
  },
  {
   "cell_type": "code",
   "execution_count": 454,
   "metadata": {},
   "outputs": [
    {
     "name": "stdout",
     "output_type": "stream",
     "text": [
      "0.28527163572124203\n"
     ]
    }
   ],
   "source": [
    "print(delta_total)\n",
    "assert delta_total < 1. / 3, \"Must have pfail < 1/3\""
   ]
  },
  {
   "cell_type": "code",
   "execution_count": 455,
   "metadata": {},
   "outputs": [],
   "source": [
    "# calculating number of repetitions..."
   ]
  },
  {
   "cell_type": "code",
   "execution_count": 456,
   "metadata": {},
   "outputs": [],
   "source": [
    "Nout = exp.N[-1]"
   ]
  },
  {
   "cell_type": "code",
   "execution_count": 457,
   "metadata": {},
   "outputs": [],
   "source": [
    "# maximal probability of failure (<1/4)\n",
    "p_fail = 1. / 3"
   ]
  },
  {
   "cell_type": "code",
   "execution_count": 458,
   "metadata": {},
   "outputs": [],
   "source": [
    "# target probability\n",
    "delta_target = 1e-5"
   ]
  },
  {
   "cell_type": "code",
   "execution_count": 459,
   "metadata": {},
   "outputs": [
    {
     "name": "stdout",
     "output_type": "stream",
     "text": [
      "Number of repetitions 13.0 will achieve 1e-05\n"
     ]
    }
   ],
   "source": [
    "m = np.log(Nout / delta_target) / np.log(1 / p_fail)\n",
    "print('Number of repetitions', np.ceil(m), 'will achieve', delta_target)"
   ]
  },
  {
   "cell_type": "code",
   "execution_count": 461,
   "metadata": {},
   "outputs": [
    {
     "data": {
      "text/plain": [
       "76.67171730593843"
      ]
     },
     "execution_count": 461,
     "metadata": {},
     "output_type": "execute_result"
    }
   ],
   "source": [
    "alpha ** 2 * Wnorm ** 2"
   ]
  },
  {
   "cell_type": "code",
   "execution_count": 518,
   "metadata": {},
   "outputs": [
    {
     "ename": "NameError",
     "evalue": "name 'feed' is not defined",
     "output_type": "error",
     "traceback": [
      "\u001b[0;31m---------------------------------------------------------------------------\u001b[0m",
      "\u001b[0;31mNameError\u001b[0m                                 Traceback (most recent call last)",
      "\u001b[0;32m<ipython-input-518-7bb3db579f57>\u001b[0m in \u001b[0;36m<module>\u001b[0;34m\u001b[0m\n\u001b[0;32m----> 1\u001b[0;31m \u001b[0msess\u001b[0m\u001b[0;34m.\u001b[0m\u001b[0mrun\u001b[0m\u001b[0;34m(\u001b[0m\u001b[0mtf\u001b[0m\u001b[0;34m.\u001b[0m\u001b[0mgradients\u001b[0m\u001b[0;34m(\u001b[0m\u001b[0mexp\u001b[0m\u001b[0;34m.\u001b[0m\u001b[0mloss\u001b[0m\u001b[0;34m,\u001b[0m \u001b[0mexp\u001b[0m\u001b[0;34m.\u001b[0m\u001b[0mmodel_correct\u001b[0m\u001b[0;34m.\u001b[0m\u001b[0minput\u001b[0m\u001b[0;34m)\u001b[0m\u001b[0;34m,\u001b[0m \u001b[0mfeed\u001b[0m\u001b[0;34m)\u001b[0m\u001b[0;34m\u001b[0m\u001b[0;34m\u001b[0m\u001b[0m\n\u001b[0m",
      "\u001b[0;31mNameError\u001b[0m: name 'feed' is not defined"
     ]
    }
   ],
   "source": [
    "sess.run(tf.gradients(exp.loss, exp.model_correct.input), feed_dict = {exp.x_train[0]})"
   ]
  },
  {
   "cell_type": "code",
   "execution_count": 9,
   "metadata": {},
   "outputs": [],
   "source": [
    "sess = get_session()"
   ]
  },
  {
   "cell_type": "code",
   "execution_count": 10,
   "metadata": {},
   "outputs": [],
   "source": [
    "N = 1000000"
   ]
  },
  {
   "cell_type": "code",
   "execution_count": 11,
   "metadata": {},
   "outputs": [],
   "source": [
    "x = tf.Variable(tf.random.uniform((N,)), tf.float64)"
   ]
  },
  {
   "cell_type": "code",
   "execution_count": 12,
   "metadata": {},
   "outputs": [],
   "source": [
    "loss = tf.reduce_sum(tf.exp(x))"
   ]
  },
  {
   "cell_type": "code",
   "execution_count": 13,
   "metadata": {},
   "outputs": [],
   "source": [
    "def grad_and_mult(fcn, x):\n",
    "    return tf.reduce_sum(tf.multiply(tf.gradients(fcn, x)[0], tf.stop_gradient(x)))"
   ]
  },
  {
   "cell_type": "code",
   "execution_count": 22,
   "metadata": {},
   "outputs": [],
   "source": [
    "loss = grad_and_mult(loss, x)"
   ]
  },
  {
   "cell_type": "code",
   "execution_count": 23,
   "metadata": {},
   "outputs": [],
   "source": [
    "sess.run(tf.global_variables_initializer())\n",
    "#sess.run([x, w])"
   ]
  },
  {
   "cell_type": "code",
   "execution_count": 24,
   "metadata": {},
   "outputs": [
    {
     "data": {
      "text/plain": [
       "464207.6"
      ]
     },
     "execution_count": 24,
     "metadata": {},
     "output_type": "execute_result"
    }
   ],
   "source": [
    "sess.run(loss)"
   ]
  },
  {
   "cell_type": "code",
   "execution_count": 34,
   "metadata": {},
   "outputs": [],
   "source": [
    "Wl = exp.model_correct.layers[-1].weights[0]"
   ]
  },
  {
   "cell_type": "code",
   "execution_count": 37,
   "metadata": {},
   "outputs": [],
   "source": [
    "### Trying for a single object...\n",
    "idx = 10\n",
    "x = exp.x_train[idx:idx+1]\n",
    "y = exp.y_train[idx:idx+1]"
   ]
  },
  {
   "cell_type": "code",
   "execution_count": 38,
   "metadata": {},
   "outputs": [],
   "source": [
    "feed = {exp.model_correct.input: x, exp.output_tensor: y}"
   ]
  },
  {
   "cell_type": "code",
   "execution_count": 55,
   "metadata": {},
   "outputs": [],
   "source": [
    "h = sess.run(tf.hessians(exp.loss, Wl), feed)[0]"
   ]
  },
  {
   "cell_type": "code",
   "execution_count": 56,
   "metadata": {},
   "outputs": [],
   "source": [
    "h = np.abs(h)"
   ]
  },
  {
   "cell_type": "code",
   "execution_count": 57,
   "metadata": {},
   "outputs": [
    {
     "data": {
      "image/png": "[encoded data removed]",
      "text/plain": [
       "<Figure size 432x288 with 1 Axes>"
      ]
     },
     "metadata": {
      "needs_background": "light"
     },
     "output_type": "display_data"
    }
   ],
   "source": [
    "plt.hist(np.abs(h.flatten()))\n",
    "plt.xscale('log')"
   ]
  },
  {
   "cell_type": "code",
   "execution_count": 60,
   "metadata": {},
   "outputs": [
    {
     "data": {
      "text/plain": [
       "0.0031329184"
      ]
     },
     "execution_count": 60,
     "metadata": {},
     "output_type": "execute_result"
    }
   ],
   "source": [
    "np.mean(np.abs(h))"
   ]
  },
  {
   "cell_type": "code",
   "execution_count": null,
   "metadata": {},
   "outputs": [],
   "source": []
  }
 ],
 "metadata": {
  "kernelspec": {
   "display_name": "Python 3",
   "language": "python",
   "name": "python3"
  },
  "language_info": {
   "codemirror_mode": {
    "name": "ipython",
    "version": 3
   },
   "file_extension": ".py",
   "mimetype": "text/x-python",
   "name": "python",
   "nbconvert_exporter": "python",
   "pygments_lexer": "ipython3",
   "version": "3.6.8"
  },
  "notify_time": "5",
  "varInspector": {
   "cols": {
    "lenName": 16,
    "lenType": 16,
    "lenVar": 40
   },
   "kernels_config": {
    "python": {
     "delete_cmd_postfix": "",
     "delete_cmd_prefix": "del ",
     "library": "var_list.py",
     "varRefreshCmd": "print(var_dic_list())"
    },
    "r": {
     "delete_cmd_postfix": ") ",
     "delete_cmd_prefix": "rm(",
     "library": "var_list.r",
     "varRefreshCmd": "cat(var_dic_list()) "
    }
   },
   "position": {
    "height": "407px",
    "left": "1561px",
    "right": "20px",
    "top": "120px",
    "width": "339px"
   },
   "types_to_exclude": [
    "module",
    "function",
    "builtin_function_or_method",
    "instance",
    "_Feature"
   ],
   "window_display": false
  }
 },
 "nbformat": 4,
 "nbformat_minor": 2
}
