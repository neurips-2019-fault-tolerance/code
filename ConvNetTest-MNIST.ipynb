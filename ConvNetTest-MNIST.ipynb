{
 "cells": [
  {
   "cell_type": "code",
   "execution_count": 1,
   "metadata": {},
   "outputs": [
    {
     "name": "stderr",
     "output_type": "stream",
     "text": [
      "Using TensorFlow backend.\n"
     ]
    },
    {
     "name": "stdout",
     "output_type": "stream",
     "text": [
      "Initialized TensorFlow\n"
     ]
    }
   ],
   "source": [
    "%load_ext autoreload\n",
    "%autoreload 2\n",
    "%matplotlib inline\n",
    "\n",
    "# loading keras and FBD experiment...\n",
    "from keras import backend as K\n",
    "from helpers import *\n",
    "from experiment_model import *\n",
    "from model_conv import *\n",
    "from matplotlib import pyplot as plt\n",
    "import pickle\n",
    "from tqdm import tqdm\n",
    "import sys\n",
    "import numpy as np\n",
    "\n",
    "# to show the model\n",
    "from IPython.display import SVG\n",
    "from keras.utils.vis_utils import model_to_dot\n",
    "from keras import Model, Input\n",
    "\n",
    "# loading resnet\n",
    "from keras.applications.resnet50 import ResNet50\n",
    "from keras.preprocessing import image\n",
    "from keras.applications.resnet50 import preprocess_input, decode_predictions"
   ]
  },
  {
   "cell_type": "markdown",
   "metadata": {},
   "source": [
    "### The issue:\n",
    "1. MNIST convnet works with avgpool/maxpool and with 3 channels\n",
    "2. ImageNet doesn't work even for one conv layer and downsampled to 2x2 pixels input (see VGG16 notebook) both for vgg16 and resnet\n",
    "3. Looks like the problem is in `preprocess_input`. It makes $\\mathbb{E}_ix_i=0$. Tried removing it. VGG still works and the bound still doesn't. Maybe the problem is that it's rare that a pixel becomes of different color? Maybe I need to kill all 3 channels at once? Or I need to use AvgPooling? Even 1 Conv layer with flattened output cannot be handled by the bound\n",
    "4. Which assumption is not correct? Is it the issue with input dimensionality? Try only crashing first row of the image..."
   ]
  },
  {
   "cell_type": "code",
   "execution_count": 2,
   "metadata": {},
   "outputs": [],
   "source": [
    "# see https://github.com/keras-team/keras/blob/master/examples/mnist_cnn.py\n",
    "from __future__ import print_function\n",
    "import keras\n",
    "from keras.datasets import mnist\n",
    "from keras.models import Sequential\n",
    "from keras.layers import Dense, Dropout, Flatten\n",
    "from keras.layers import Conv2D, MaxPooling2D, AveragePooling2D\n",
    "from keras import backend as K\n",
    "\n",
    "batch_size = 128\n",
    "num_classes = 10\n",
    "epochs = 10\n",
    "\n",
    "# input image dimensions\n",
    "img_rows, img_cols = 28, 28\n",
    "\n",
    "# the data, split between train and test sets\n",
    "(x_train, y_train), (x_test, y_test) = mnist.load_data()"
   ]
  },
  {
   "cell_type": "code",
   "execution_count": 3,
   "metadata": {},
   "outputs": [],
   "source": [
    "# channels last\n",
    "# Making images grayscale (adding repeated 2 more channels)\n",
    "x_train = x_train.reshape(x_train.shape[0], img_rows, img_cols, 1).repeat(3, axis = 3)\n",
    "x_test = x_test.reshape(x_test.shape[0], img_rows, img_cols, 1).repeat(3, axis = 3)"
   ]
  },
  {
   "cell_type": "code",
   "execution_count": 4,
   "metadata": {},
   "outputs": [
    {
     "data": {
      "text/plain": [
       "((10000, 28, 28, 3), (60000, 28, 28, 3))"
      ]
     },
     "execution_count": 4,
     "metadata": {},
     "output_type": "execute_result"
    }
   ],
   "source": [
    "# printing shapes\n",
    "x_test.shape, x_train.shape"
   ]
  },
  {
   "cell_type": "code",
   "execution_count": 5,
   "metadata": {},
   "outputs": [
    {
     "name": "stdout",
     "output_type": "stream",
     "text": [
      "x_train shape: (60000, 28, 28, 3)\n",
      "60000 train samples\n",
      "10000 test samples\n"
     ]
    }
   ],
   "source": [
    "input_shape = (img_rows, img_cols, 3)\n",
    "\n",
    "x_train = x_train.astype('float32')\n",
    "x_test = x_test.astype('float32')\n",
    "x_train /= 255\n",
    "x_test /= 255\n",
    "print('x_train shape:', x_train.shape)\n",
    "print(x_train.shape[0], 'train samples')\n",
    "print(x_test.shape[0], 'test samples')\n",
    "\n",
    "# convert class vectors to binary class matrices\n",
    "y_train = keras.utils.to_categorical(y_train, num_classes)\n",
    "y_test = keras.utils.to_categorical(y_test, num_classes)"
   ]
  },
  {
   "cell_type": "code",
   "execution_count": 6,
   "metadata": {},
   "outputs": [
    {
     "name": "stdout",
     "output_type": "stream",
     "text": [
      "Train on 60000 samples, validate on 10000 samples\n",
      "Epoch 1/10\n",
      "60000/60000 [==============================] - 6s 94us/step - loss: 2.3208 - acc: 0.1084 - val_loss: 2.3008 - val_acc: 0.1135\n",
      "Epoch 2/10\n",
      "60000/60000 [==============================] - 5s 86us/step - loss: 1.7512 - acc: 0.3403 - val_loss: 0.1380 - val_acc: 0.9565\n",
      "Epoch 3/10\n",
      "60000/60000 [==============================] - 5s 79us/step - loss: 0.1497 - acc: 0.9553 - val_loss: 0.0550 - val_acc: 0.9822\n",
      "Epoch 4/10\n",
      "60000/60000 [==============================] - 5s 90us/step - loss: 0.0943 - acc: 0.9725 - val_loss: 0.0374 - val_acc: 0.9871\n",
      "Epoch 5/10\n",
      "60000/60000 [==============================] - 5s 87us/step - loss: 0.0723 - acc: 0.9791 - val_loss: 0.0297 - val_acc: 0.9906\n",
      "Epoch 6/10\n",
      "60000/60000 [==============================] - 5s 79us/step - loss: 0.0625 - acc: 0.9813 - val_loss: 0.0277 - val_acc: 0.9894\n",
      "Epoch 7/10\n",
      "60000/60000 [==============================] - 5s 79us/step - loss: 0.0544 - acc: 0.9841 - val_loss: 0.0258 - val_acc: 0.9910\n",
      "Epoch 8/10\n",
      "60000/60000 [==============================] - 5s 83us/step - loss: 0.0485 - acc: 0.9860 - val_loss: 0.0297 - val_acc: 0.9909\n",
      "Epoch 9/10\n",
      "60000/60000 [==============================] - 5s 85us/step - loss: 0.0463 - acc: 0.9865 - val_loss: 0.0275 - val_acc: 0.9908\n",
      "Epoch 10/10\n",
      "60000/60000 [==============================] - 5s 82us/step - loss: 0.0431 - acc: 0.9877 - val_loss: 0.0235 - val_acc: 0.9919\n"
     ]
    },
    {
     "data": {
      "image/png": "[encoded data removed]",
      "text/plain": [
       "<Figure size 432x288 with 1 Axes>"
      ]
     },
     "metadata": {
      "needs_background": "light"
     },
     "output_type": "display_data"
    },
    {
     "name": "stdout",
     "output_type": "stream",
     "text": [
      "Test loss: 0.02345964987495172\n",
      "Test accuracy: 0.9919\n"
     ]
    }
   ],
   "source": [
    "model = Sequential()\n",
    "model.add(Conv2D(32, kernel_size=(3, 3),\n",
    "                 activation='softplus',\n",
    "                 input_shape=input_shape))\n",
    "model.add(Conv2D(64, (3, 3), activation='softplus'))\n",
    "#model.add(AveragePooling2D(pool_size=(2, 2)))\n",
    "model.add(MaxPooling2D(pool_size=(2, 2)))\n",
    "\n",
    "model.add(Conv2D(64, (3, 3), padding = 'same', activation='softplus'))\n",
    "model.add(Conv2D(64, (3, 3), padding = 'same', activation='softplus'))\n",
    "#model.add(AveragePooling2D(pool_size=(2, 2)))\n",
    "model.add(MaxPooling2D(pool_size=(2, 2)))\n",
    "\n",
    "model.add(Dropout(0.25))\n",
    "model.add(Flatten())\n",
    "model.add(Dense(128, activation='softplus'))\n",
    "model.add(Dropout(0.5))\n",
    "model.add(Dense(num_classes, activation='softmax'))\n",
    "\n",
    "model.compile(loss=keras.losses.categorical_crossentropy,\n",
    "              optimizer=keras.optimizers.Adadelta(),\n",
    "              metrics=['accuracy'])\n",
    "\n",
    "history = model.fit(x_train, y_train,\n",
    "          batch_size=batch_size,\n",
    "          epochs=epochs,\n",
    "          verbose=1,\n",
    "          validation_data=(x_test, y_test))\n",
    "plt.figure()\n",
    "plt.plot(history.history['acc'], label = 'acc')\n",
    "plt.plot(history.history['val_acc'], label = 'val_acc')\n",
    "plt.show()\n",
    "score = model.evaluate(x_test, y_test, verbose=0)\n",
    "print('Test loss:', score[0])\n",
    "print('Test accuracy:', score[1])"
   ]
  },
  {
   "cell_type": "code",
   "execution_count": 7,
   "metadata": {},
   "outputs": [
    {
     "name": "stdout",
     "output_type": "stream",
     "text": [
      "2352 0.0001 0.23520000000000002\n"
     ]
    }
   ],
   "source": [
    "# probability of input failure\n",
    "p = 0.0001\n",
    "\n",
    "# calculating n\n",
    "n = np.prod(list(map(int, model.inputs[0].shape[1:])))\n",
    "\n",
    "# n, p, np\n",
    "print(n, p, n * p)"
   ]
  },
  {
   "cell_type": "code",
   "execution_count": 8,
   "metadata": {},
   "outputs": [
    {
     "data": {
      "image/png": "[encoded data removed]",
      "text/plain": [
       "<Figure size 432x288 with 1 Axes>"
      ]
     },
     "metadata": {
      "needs_background": "light"
     },
     "output_type": "display_data"
    }
   ],
   "source": [
    "# obtain input\n",
    "x = np.array([x_train[2]])\n",
    "plt.imshow(x[0])\n",
    "plt.show()"
   ]
  },
  {
   "cell_type": "code",
   "execution_count": 9,
   "metadata": {},
   "outputs": [],
   "source": [
    "# obtaining experiment from a model\n",
    "exp = ModelInputCrashExperiment(model, p = p)"
   ]
  },
  {
   "cell_type": "code",
   "execution_count": 10,
   "metadata": {},
   "outputs": [],
   "source": [
    "def predict(model, x):\n",
    "    \"\"\" Predict classes, order by most probable \"\"\"\n",
    "    preds = model.predict(x)[0]\n",
    "    sort = np.argsort(-preds)[:3]\n",
    "    print(' '.join(['%d: %.20f%%' % (i, 100 * preds[i]) for i in sort]))"
   ]
  },
  {
   "cell_type": "code",
   "execution_count": 11,
   "metadata": {},
   "outputs": [
    {
     "name": "stdout",
     "output_type": "stream",
     "text": [
      "4: 99.99997615814208984375% 9: 0.00002134309937673606% 1: 0.00000298075875093673%\n"
     ]
    }
   ],
   "source": [
    "# crashing prediction\n",
    "predict(exp.model_crashing, x)"
   ]
  },
  {
   "cell_type": "code",
   "execution_count": 12,
   "metadata": {},
   "outputs": [
    {
     "name": "stdout",
     "output_type": "stream",
     "text": [
      "4: 99.99997615814208984375% 9: 0.00002134309937673606% 1: 0.00000298075875093673%\n"
     ]
    }
   ],
   "source": [
    "# correct prediction\n",
    "predict(exp.model_correct, x)"
   ]
  },
  {
   "cell_type": "code",
   "execution_count": 13,
   "metadata": {},
   "outputs": [
    {
     "data": {
      "text/plain": [
       "{'mean': array([ 5.3206518e-16,  7.2949806e-11,  5.5989449e-12,  2.0818543e-15,\n",
       "        -4.9569471e-10,  3.8605739e-14,  6.7472881e-12,  3.3007912e-11,\n",
       "         1.7755918e-13,  4.2561382e-10], dtype=float32),\n",
       " 'std': array([6.0661882e-15, 1.0045154e-09, 6.4685222e-11, 2.4253818e-14,\n",
       "        5.7991980e-09, 4.7914548e-13, 8.5031572e-11, 3.7187320e-10,\n",
       "        2.0881448e-12, 5.0924123e-09], dtype=float32)}"
      ]
     },
     "execution_count": 13,
     "metadata": {},
     "output_type": "execute_result"
    }
   ],
   "source": [
    "# theoretical error\n",
    "exp.get_bound_b3(x)"
   ]
  },
  {
   "cell_type": "code",
   "execution_count": 14,
   "metadata": {},
   "outputs": [
    {
     "data": {
      "text/plain": [
       "{'mean': array([[ 7.5416097e-16,  1.0058494e-10,  7.1183124e-12,  3.1662365e-15,\n",
       "         -2.5033950e-10,  5.9061724e-14,  9.2576962e-12,  4.1548130e-11,\n",
       "          2.4564606e-13,  5.4762639e-10]], dtype=float32),\n",
       " 'std': array([[8.8094501e-15, 1.3049956e-09, 8.5166041e-11, 3.9030496e-14,\n",
       "         7.4399971e-09, 7.5031772e-13, 1.1716579e-10, 4.6027468e-10,\n",
       "         2.8889861e-12, 5.9992353e-09]], dtype=float32)}"
      ]
     },
     "execution_count": 14,
     "metadata": {},
     "output_type": "execute_result"
    }
   ],
   "source": [
    "# get experimental error\n",
    "experiment_mean_std(exp, x, repetitions = 10000)"
   ]
  },
  {
   "cell_type": "code",
   "execution_count": null,
   "metadata": {},
   "outputs": [],
   "source": []
  }
 ],
 "metadata": {
  "kernelspec": {
   "display_name": "Python 3",
   "language": "python",
   "name": "python3"
  },
  "language_info": {
   "codemirror_mode": {
    "name": "ipython",
    "version": 3
   },
   "file_extension": ".py",
   "mimetype": "text/x-python",
   "name": "python",
   "nbconvert_exporter": "python",
   "pygments_lexer": "ipython3",
   "version": "3.6.8"
  },
  "varInspector": {
   "cols": {
    "lenName": 16,
    "lenType": 16,
    "lenVar": 40
   },
   "kernels_config": {
    "python": {
     "delete_cmd_postfix": "",
     "delete_cmd_prefix": "del ",
     "library": "var_list.py",
     "varRefreshCmd": "print(var_dic_list())"
    },
    "r": {
     "delete_cmd_postfix": ") ",
     "delete_cmd_prefix": "rm(",
     "library": "var_list.r",
     "varRefreshCmd": "cat(var_dic_list()) "
    }
   },
   "types_to_exclude": [
    "module",
    "function",
    "builtin_function_or_method",
    "instance",
    "_Feature"
   ],
   "window_display": false
  }
 },
 "nbformat": 4,
 "nbformat_minor": 2
}
