{
 "cells": [
  {
   "cell_type": "code",
   "execution_count": 1,
   "metadata": {
    "ExecuteTime": {
     "end_time": "2019-01-20T20:09:48.283910Z",
     "start_time": "2019-01-20T20:09:46.461938Z"
    }
   },
   "outputs": [
    {
     "name": "stderr",
     "output_type": "stream",
     "text": [
      "Using TensorFlow backend.\n"
     ]
    },
    {
     "name": "stdout",
     "output_type": "stream",
     "text": [
      "Initialized TensorFlow\n"
     ]
    }
   ],
   "source": [
    "#!rm -rf code\n",
    "#!git clone https://xxxx/yyyy.git code\n",
    "#!mv code/* .\n",
    "%load_ext autoreload\n",
    "%autoreload 2\n",
    "%matplotlib inline\n",
    "from helpers import *\n",
    "from matplotlib import pyplot as plt\n",
    "import numpy as np\n",
    "from experiment_datasets import *\n",
    "import pandas as pd\n",
    "import seaborn as sns\n",
    "import pickle"
   ]
  },
  {
   "cell_type": "markdown",
   "metadata": {},
   "source": [
    "### Fixed single Boston experiment for all dataset as points"
   ]
  },
  {
   "cell_type": "code",
   "execution_count": 2,
   "metadata": {
    "ExecuteTime": {
     "end_time": "2019-01-20T20:09:48.298982Z",
     "start_time": "2019-01-20T20:09:48.285384Z"
    }
   },
   "outputs": [],
   "source": [
    "# pfailure for the first layer\n",
    "p = 1e-2\n",
    "np.random.seed(42)"
   ]
  },
  {
   "cell_type": "code",
   "execution_count": 4,
   "metadata": {
    "ExecuteTime": {
     "end_time": "2019-01-20T20:09:50.215678Z",
     "start_time": "2019-01-20T20:09:48.300332Z"
    }
   },
   "outputs": [
    {
     "name": "stdout",
     "output_type": "stream",
     "text": [
      "_________________________________________________________________\n",
      "Layer (type)                 Output Shape              Param #   \n",
      "=================================================================\n",
      "dense_10 (Dense)             (None, 50)                700       \n",
      "_________________________________________________________________\n",
      "dense_11 (Dense)             (None, 49)                2499      \n",
      "_________________________________________________________________\n",
      "dense_12 (Dense)             (None, 1)                 50        \n",
      "=================================================================\n",
      "Total params: 3,249\n",
      "Trainable params: 3,249\n",
      "Non-trainable params: 0\n",
      "_________________________________________________________________\n",
      "Train on 404 samples, validate on 102 samples\n",
      "Epoch 1/50\n",
      "404/404 [==============================] - 0s 424us/step - loss: 531.2130 - categorical_accuracy: 1.0000 - mean_squared_error: 531.2130 - mean_absolute_error: 21.1292 - val_loss: 554.3857 - val_categorical_accuracy: 1.0000 - val_mean_squared_error: 554.3857 - val_mean_absolute_error: 21.6956\n",
      "Epoch 2/50\n",
      "404/404 [==============================] - 0s 7us/step - loss: 525.8105 - categorical_accuracy: 1.0000 - mean_squared_error: 525.8105 - mean_absolute_error: 20.9983 - val_loss: 548.7767 - val_categorical_accuracy: 1.0000 - val_mean_squared_error: 548.7767 - val_mean_absolute_error: 21.5615\n",
      "Epoch 3/50\n",
      "404/404 [==============================] - 0s 5us/step - loss: 520.2533 - categorical_accuracy: 1.0000 - mean_squared_error: 520.2533 - mean_absolute_error: 20.8623 - val_loss: 542.9644 - val_categorical_accuracy: 1.0000 - val_mean_squared_error: 542.9644 - val_mean_absolute_error: 21.4190\n",
      "Epoch 4/50\n",
      "404/404 [==============================] - 0s 6us/step - loss: 514.6258 - categorical_accuracy: 1.0000 - mean_squared_error: 514.6258 - mean_absolute_error: 20.7233 - val_loss: 536.6470 - val_categorical_accuracy: 1.0000 - val_mean_squared_error: 536.6470 - val_mean_absolute_error: 21.2657\n",
      "Epoch 5/50\n",
      "404/404 [==============================] - 0s 6us/step - loss: 508.6155 - categorical_accuracy: 1.0000 - mean_squared_error: 508.6155 - mean_absolute_error: 20.5735 - val_loss: 530.2158 - val_categorical_accuracy: 1.0000 - val_mean_squared_error: 530.2158 - val_mean_absolute_error: 21.1106\n",
      "Epoch 6/50\n",
      "404/404 [==============================] - 0s 5us/step - loss: 502.3077 - categorical_accuracy: 1.0000 - mean_squared_error: 502.3077 - mean_absolute_error: 20.4181 - val_loss: 523.3417 - val_categorical_accuracy: 1.0000 - val_mean_squared_error: 523.3417 - val_mean_absolute_error: 20.9435\n",
      "Epoch 7/50\n",
      "404/404 [==============================] - 0s 5us/step - loss: 495.6501 - categorical_accuracy: 1.0000 - mean_squared_error: 495.6501 - mean_absolute_error: 20.2517 - val_loss: 516.4916 - val_categorical_accuracy: 1.0000 - val_mean_squared_error: 516.4916 - val_mean_absolute_error: 20.7776\n",
      "Epoch 8/50\n",
      "404/404 [==============================] - 0s 5us/step - loss: 488.7649 - categorical_accuracy: 1.0000 - mean_squared_error: 488.7649 - mean_absolute_error: 20.0825 - val_loss: 508.8617 - val_categorical_accuracy: 1.0000 - val_mean_squared_error: 508.8617 - val_mean_absolute_error: 20.5894\n",
      "Epoch 9/50\n",
      "404/404 [==============================] - 0s 6us/step - loss: 481.5795 - categorical_accuracy: 1.0000 - mean_squared_error: 481.5795 - mean_absolute_error: 19.9002 - val_loss: 500.7063 - val_categorical_accuracy: 1.0000 - val_mean_squared_error: 500.7063 - val_mean_absolute_error: 20.3876\n",
      "Epoch 10/50\n",
      "404/404 [==============================] - 0s 5us/step - loss: 473.4600 - categorical_accuracy: 1.0000 - mean_squared_error: 473.4600 - mean_absolute_error: 19.6958 - val_loss: 491.0345 - val_categorical_accuracy: 1.0000 - val_mean_squared_error: 491.0345 - val_mean_absolute_error: 20.1445\n",
      "Epoch 11/50\n",
      "404/404 [==============================] - 0s 5us/step - loss: 464.1482 - categorical_accuracy: 1.0000 - mean_squared_error: 464.1482 - mean_absolute_error: 19.4533 - val_loss: 478.5085 - val_categorical_accuracy: 1.0000 - val_mean_squared_error: 478.5085 - val_mean_absolute_error: 19.8242\n",
      "Epoch 12/50\n",
      "404/404 [==============================] - 0s 6us/step - loss: 452.5789 - categorical_accuracy: 1.0000 - mean_squared_error: 452.5789 - mean_absolute_error: 19.1451 - val_loss: 462.1184 - val_categorical_accuracy: 1.0000 - val_mean_squared_error: 462.1184 - val_mean_absolute_error: 19.3995\n",
      "Epoch 13/50\n",
      "404/404 [==============================] - 0s 6us/step - loss: 437.0303 - categorical_accuracy: 1.0000 - mean_squared_error: 437.0303 - mean_absolute_error: 18.7274 - val_loss: 441.9381 - val_categorical_accuracy: 1.0000 - val_mean_squared_error: 441.9381 - val_mean_absolute_error: 18.8642\n",
      "Epoch 14/50\n",
      "404/404 [==============================] - 0s 6us/step - loss: 417.5897 - categorical_accuracy: 1.0000 - mean_squared_error: 417.5897 - mean_absolute_error: 18.1932 - val_loss: 422.8847 - val_categorical_accuracy: 1.0000 - val_mean_squared_error: 422.8847 - val_mean_absolute_error: 18.3610\n",
      "Epoch 15/50\n",
      "404/404 [==============================] - 0s 6us/step - loss: 399.1344 - categorical_accuracy: 1.0000 - mean_squared_error: 399.1344 - mean_absolute_error: 17.6874 - val_loss: 406.6974 - val_categorical_accuracy: 1.0000 - val_mean_squared_error: 406.6974 - val_mean_absolute_error: 17.9266\n",
      "Epoch 16/50\n",
      "404/404 [==============================] - 0s 6us/step - loss: 383.3653 - categorical_accuracy: 1.0000 - mean_squared_error: 383.3653 - mean_absolute_error: 17.2566 - val_loss: 391.7862 - val_categorical_accuracy: 1.0000 - val_mean_squared_error: 391.7862 - val_mean_absolute_error: 17.5224\n",
      "Epoch 17/50\n",
      "404/404 [==============================] - 0s 5us/step - loss: 369.1382 - categorical_accuracy: 1.0000 - mean_squared_error: 369.1382 - mean_absolute_error: 16.8532 - val_loss: 380.0009 - val_categorical_accuracy: 1.0000 - val_mean_squared_error: 380.0009 - val_mean_absolute_error: 17.1930\n",
      "Epoch 18/50\n",
      "404/404 [==============================] - 0s 5us/step - loss: 357.7100 - categorical_accuracy: 1.0000 - mean_squared_error: 357.7100 - mean_absolute_error: 16.5176 - val_loss: 369.6230 - val_categorical_accuracy: 1.0000 - val_mean_squared_error: 369.6230 - val_mean_absolute_error: 16.8931\n",
      "Epoch 19/50\n",
      "404/404 [==============================] - 0s 6us/step - loss: 347.1129 - categorical_accuracy: 1.0000 - mean_squared_error: 347.1129 - mean_absolute_error: 16.2019 - val_loss: 359.7038 - val_categorical_accuracy: 1.0000 - val_mean_squared_error: 359.7038 - val_mean_absolute_error: 16.6084\n",
      "Epoch 20/50\n",
      "404/404 [==============================] - 0s 5us/step - loss: 337.8010 - categorical_accuracy: 1.0000 - mean_squared_error: 337.8010 - mean_absolute_error: 15.9161 - val_loss: 350.6469 - val_categorical_accuracy: 1.0000 - val_mean_squared_error: 350.6469 - val_mean_absolute_error: 16.3407\n",
      "Epoch 21/50\n",
      "404/404 [==============================] - 0s 5us/step - loss: 329.1826 - categorical_accuracy: 1.0000 - mean_squared_error: 329.1826 - mean_absolute_error: 15.6472 - val_loss: 341.7916 - val_categorical_accuracy: 1.0000 - val_mean_squared_error: 341.7916 - val_mean_absolute_error: 16.0812\n",
      "Epoch 22/50\n",
      "404/404 [==============================] - 0s 6us/step - loss: 321.0450 - categorical_accuracy: 1.0000 - mean_squared_error: 321.0450 - mean_absolute_error: 15.3909 - val_loss: 333.9474 - val_categorical_accuracy: 1.0000 - val_mean_squared_error: 333.9474 - val_mean_absolute_error: 15.8511\n",
      "Epoch 23/50\n",
      "404/404 [==============================] - 0s 5us/step - loss: 313.5004 - categorical_accuracy: 1.0000 - mean_squared_error: 313.5004 - mean_absolute_error: 15.1513 - val_loss: 326.4434 - val_categorical_accuracy: 1.0000 - val_mean_squared_error: 326.4434 - val_mean_absolute_error: 15.6341\n",
      "Epoch 24/50\n",
      "404/404 [==============================] - 0s 5us/step - loss: 306.4294 - categorical_accuracy: 1.0000 - mean_squared_error: 306.4294 - mean_absolute_error: 14.9233 - val_loss: 319.4004 - val_categorical_accuracy: 1.0000 - val_mean_squared_error: 319.4004 - val_mean_absolute_error: 15.4295\n",
      "Epoch 25/50\n",
      "404/404 [==============================] - 0s 5us/step - loss: 299.6923 - categorical_accuracy: 1.0000 - mean_squared_error: 299.6923 - mean_absolute_error: 14.7025 - val_loss: 312.6623 - val_categorical_accuracy: 1.0000 - val_mean_squared_error: 312.6623 - val_mean_absolute_error: 15.2308\n"
     ]
    },
    {
     "name": "stdout",
     "output_type": "stream",
     "text": [
      "Epoch 26/50\n",
      "404/404 [==============================] - 0s 5us/step - loss: 293.2552 - categorical_accuracy: 1.0000 - mean_squared_error: 293.2552 - mean_absolute_error: 14.4888 - val_loss: 306.2101 - val_categorical_accuracy: 1.0000 - val_mean_squared_error: 306.2101 - val_mean_absolute_error: 15.0379\n",
      "Epoch 27/50\n",
      "404/404 [==============================] - 0s 6us/step - loss: 287.0847 - categorical_accuracy: 1.0000 - mean_squared_error: 287.0847 - mean_absolute_error: 14.2812 - val_loss: 299.9983 - val_categorical_accuracy: 1.0000 - val_mean_squared_error: 299.9983 - val_mean_absolute_error: 14.8523\n",
      "Epoch 28/50\n",
      "404/404 [==============================] - 0s 6us/step - loss: 281.1357 - categorical_accuracy: 1.0000 - mean_squared_error: 281.1357 - mean_absolute_error: 14.0786 - val_loss: 293.9557 - val_categorical_accuracy: 1.0000 - val_mean_squared_error: 293.9557 - val_mean_absolute_error: 14.6713\n",
      "Epoch 29/50\n",
      "404/404 [==============================] - 0s 5us/step - loss: 275.3815 - categorical_accuracy: 1.0000 - mean_squared_error: 275.3815 - mean_absolute_error: 13.8817 - val_loss: 288.2031 - val_categorical_accuracy: 1.0000 - val_mean_squared_error: 288.2031 - val_mean_absolute_error: 14.4959\n",
      "Epoch 30/50\n",
      "404/404 [==============================] - 0s 6us/step - loss: 269.8818 - categorical_accuracy: 1.0000 - mean_squared_error: 269.8818 - mean_absolute_error: 13.6932 - val_loss: 282.6442 - val_categorical_accuracy: 1.0000 - val_mean_squared_error: 282.6442 - val_mean_absolute_error: 14.3239\n",
      "Epoch 31/50\n",
      "404/404 [==============================] - 0s 5us/step - loss: 264.5815 - categorical_accuracy: 1.0000 - mean_squared_error: 264.5815 - mean_absolute_error: 13.5101 - val_loss: 277.2662 - val_categorical_accuracy: 1.0000 - val_mean_squared_error: 277.2662 - val_mean_absolute_error: 14.1552\n",
      "Epoch 32/50\n",
      "404/404 [==============================] - 0s 5us/step - loss: 259.4770 - categorical_accuracy: 1.0000 - mean_squared_error: 259.4770 - mean_absolute_error: 13.3327 - val_loss: 272.0575 - val_categorical_accuracy: 1.0000 - val_mean_squared_error: 272.0575 - val_mean_absolute_error: 13.9896\n",
      "Epoch 33/50\n",
      "404/404 [==============================] - 0s 5us/step - loss: 254.5381 - categorical_accuracy: 1.0000 - mean_squared_error: 254.5381 - mean_absolute_error: 13.1590 - val_loss: 267.0087 - val_categorical_accuracy: 1.0000 - val_mean_squared_error: 267.0087 - val_mean_absolute_error: 13.8268\n",
      "Epoch 34/50\n",
      "404/404 [==============================] - 0s 5us/step - loss: 249.7548 - categorical_accuracy: 1.0000 - mean_squared_error: 249.7548 - mean_absolute_error: 12.9883 - val_loss: 262.1115 - val_categorical_accuracy: 1.0000 - val_mean_squared_error: 262.1115 - val_mean_absolute_error: 13.6695\n",
      "Epoch 35/50\n",
      "404/404 [==============================] - 0s 6us/step - loss: 245.1189 - categorical_accuracy: 1.0000 - mean_squared_error: 245.1189 - mean_absolute_error: 12.8205 - val_loss: 257.3588 - val_categorical_accuracy: 1.0000 - val_mean_squared_error: 257.3588 - val_mean_absolute_error: 13.5191\n",
      "Epoch 36/50\n",
      "404/404 [==============================] - 0s 6us/step - loss: 240.6232 - categorical_accuracy: 1.0000 - mean_squared_error: 240.6232 - mean_absolute_error: 12.6562 - val_loss: 252.7442 - val_categorical_accuracy: 1.0000 - val_mean_squared_error: 252.7442 - val_mean_absolute_error: 13.3710\n",
      "Epoch 37/50\n",
      "404/404 [==============================] - 0s 5us/step - loss: 236.2616 - categorical_accuracy: 1.0000 - mean_squared_error: 236.2616 - mean_absolute_error: 12.4946 - val_loss: 248.2620 - val_categorical_accuracy: 1.0000 - val_mean_squared_error: 248.2620 - val_mean_absolute_error: 13.2268\n",
      "Epoch 38/50\n",
      "404/404 [==============================] - 0s 5us/step - loss: 232.0285 - categorical_accuracy: 1.0000 - mean_squared_error: 232.0285 - mean_absolute_error: 12.3360 - val_loss: 243.9069 - val_categorical_accuracy: 1.0000 - val_mean_squared_error: 243.9069 - val_mean_absolute_error: 13.0880\n",
      "Epoch 39/50\n",
      "404/404 [==============================] - 0s 5us/step - loss: 227.9187 - categorical_accuracy: 1.0000 - mean_squared_error: 227.9187 - mean_absolute_error: 12.1804 - val_loss: 239.6744 - val_categorical_accuracy: 1.0000 - val_mean_squared_error: 239.6744 - val_mean_absolute_error: 12.9532\n",
      "Epoch 40/50\n",
      "404/404 [==============================] - 0s 5us/step - loss: 223.9276 - categorical_accuracy: 1.0000 - mean_squared_error: 223.9276 - mean_absolute_error: 12.0291 - val_loss: 235.5600 - val_categorical_accuracy: 1.0000 - val_mean_squared_error: 235.5600 - val_mean_absolute_error: 12.8204\n",
      "Epoch 41/50\n",
      "404/404 [==============================] - 0s 5us/step - loss: 220.0509 - categorical_accuracy: 1.0000 - mean_squared_error: 220.0509 - mean_absolute_error: 11.8808 - val_loss: 231.5596 - val_categorical_accuracy: 1.0000 - val_mean_squared_error: 231.5596 - val_mean_absolute_error: 12.6896\n",
      "Epoch 42/50\n",
      "404/404 [==============================] - 0s 5us/step - loss: 216.2847 - categorical_accuracy: 1.0000 - mean_squared_error: 216.2847 - mean_absolute_error: 11.7353 - val_loss: 227.6696 - val_categorical_accuracy: 1.0000 - val_mean_squared_error: 227.6696 - val_mean_absolute_error: 12.5607\n",
      "Epoch 43/50\n",
      "404/404 [==============================] - 0s 5us/step - loss: 212.6252 - categorical_accuracy: 1.0000 - mean_squared_error: 212.6252 - mean_absolute_error: 11.5931 - val_loss: 223.8862 - val_categorical_accuracy: 1.0000 - val_mean_squared_error: 223.8862 - val_mean_absolute_error: 12.4336\n",
      "Epoch 44/50\n",
      "404/404 [==============================] - 0s 5us/step - loss: 209.0690 - categorical_accuracy: 1.0000 - mean_squared_error: 209.0690 - mean_absolute_error: 11.4544 - val_loss: 220.2062 - val_categorical_accuracy: 1.0000 - val_mean_squared_error: 220.2062 - val_mean_absolute_error: 12.3083\n",
      "Epoch 45/50\n",
      "404/404 [==============================] - 0s 5us/step - loss: 205.6128 - categorical_accuracy: 1.0000 - mean_squared_error: 205.6128 - mean_absolute_error: 11.3186 - val_loss: 216.6263 - val_categorical_accuracy: 1.0000 - val_mean_squared_error: 216.6263 - val_mean_absolute_error: 12.1849\n",
      "Epoch 46/50\n",
      "404/404 [==============================] - 0s 5us/step - loss: 202.2535 - categorical_accuracy: 1.0000 - mean_squared_error: 202.2535 - mean_absolute_error: 11.1853 - val_loss: 213.1434 - val_categorical_accuracy: 1.0000 - val_mean_squared_error: 213.1434 - val_mean_absolute_error: 12.0631\n",
      "Epoch 47/50\n",
      "404/404 [==============================] - 0s 5us/step - loss: 198.9881 - categorical_accuracy: 1.0000 - mean_squared_error: 198.9881 - mean_absolute_error: 11.0542 - val_loss: 209.7547 - val_categorical_accuracy: 1.0000 - val_mean_squared_error: 209.7547 - val_mean_absolute_error: 11.9431\n",
      "Epoch 48/50\n",
      "404/404 [==============================] - 0s 5us/step - loss: 195.8137 - categorical_accuracy: 1.0000 - mean_squared_error: 195.8137 - mean_absolute_error: 10.9255 - val_loss: 206.4574 - val_categorical_accuracy: 1.0000 - val_mean_squared_error: 206.4574 - val_mean_absolute_error: 11.8249\n",
      "Epoch 49/50\n",
      "404/404 [==============================] - 0s 5us/step - loss: 192.7277 - categorical_accuracy: 1.0000 - mean_squared_error: 192.7277 - mean_absolute_error: 10.8013 - val_loss: 203.2487 - val_categorical_accuracy: 1.0000 - val_mean_squared_error: 203.2487 - val_mean_absolute_error: 11.7110\n",
      "Epoch 50/50\n",
      "404/404 [==============================] - 0s 5us/step - loss: 189.7274 - categorical_accuracy: 1.0000 - mean_squared_error: 189.7274 - mean_absolute_error: 10.6802 - val_loss: 200.1262 - val_categorical_accuracy: 1.0000 - val_mean_squared_error: 200.1262 - val_mean_absolute_error: 11.5988\n"
     ]
    },
    {
     "data": {
      "image/png": "[encoded data removed]",
      "text/plain": [
       "<Figure size 432x288 with 1 Axes>"
      ]
     },
     "metadata": {
      "needs_background": "light"
     },
     "output_type": "display_data"
    },
    {
     "name": "stdout",
     "output_type": "stream",
     "text": [
      "Creating network for 13-dimensional input and 1-dimensional output, with 2 hidden layers\n",
      "_________________________________________________________________\n",
      "Layer (type)                 Output Shape              Param #   \n",
      "=================================================================\n",
      "dense_13 (Dense)             (None, 50)                700       \n",
      "_________________________________________________________________\n",
      "Crashes (Lambda)             (None, 50)                0         \n",
      "_________________________________________________________________\n",
      "dense_14 (Dense)             (None, 49)                2499      \n",
      "_________________________________________________________________\n",
      "dense_15 (Dense)             (None, 1)                 50        \n",
      "=================================================================\n",
      "Total params: 3,249\n",
      "Trainable params: 3,249\n",
      "Non-trainable params: 0\n",
      "_________________________________________________________________\n",
      "_________________________________________________________________\n",
      "Layer (type)                 Output Shape              Param #   \n",
      "=================================================================\n",
      "dense_16 (Dense)             (None, 50)                700       \n",
      "_________________________________________________________________\n",
      "dense_17 (Dense)             (None, 49)                2499      \n",
      "_________________________________________________________________\n",
      "dense_18 (Dense)             (None, 1)                 50        \n",
      "=================================================================\n",
      "Total params: 3,249\n",
      "Trainable params: 3,249\n",
      "Non-trainable params: 0\n",
      "_________________________________________________________________\n"
     ]
    }
   ],
   "source": [
    "# run with random weights and multiple inputs\n",
    "exp = BostonHousingExperiment(N = [50, 49], p_inference = [0, p, 0, 0], seed = 2, activation = 'sigmoid', epochs = 50, do_print = True)"
   ]
  },
  {
   "cell_type": "code",
   "execution_count": 24,
   "metadata": {},
   "outputs": [
    {
     "data": {
      "image/png": "[encoded data removed]",
      "text/plain": [
       "<Figure size 432x288 with 1 Axes>"
      ]
     },
     "metadata": {
      "needs_background": "light"
     },
     "output_type": "display_data"
    },
    {
     "data": {
      "image/png": "[encoded data removed]",
      "text/plain": [
       "<Figure size 432x288 with 1 Axes>"
      ]
     },
     "metadata": {
      "needs_background": "light"
     },
     "output_type": "display_data"
    },
    {
     "data": {
      "image/png": "[encoded data removed]",
      "text/plain": [
       "<Figure size 432x288 with 1 Axes>"
      ]
     },
     "metadata": {
      "needs_background": "light"
     },
     "output_type": "display_data"
    }
   ],
   "source": [
    "for i in range(len(exp.W)):\n",
    "    plt.hist(np.linalg.svd(exp.W[i])[1])\n",
    "    plt.show()"
   ]
  }
 ],
 "metadata": {
  "kernelspec": {
   "display_name": "Python 3",
   "language": "python",
   "name": "python3"
  },
  "language_info": {
   "codemirror_mode": {
    "name": "ipython",
    "version": 3
   },
   "file_extension": ".py",
   "mimetype": "text/x-python",
   "name": "python",
   "nbconvert_exporter": "python",
   "pygments_lexer": "ipython3",
   "version": "3.6.8"
  },
  "varInspector": {
   "cols": {
    "lenName": 16,
    "lenType": 16,
    "lenVar": 40
   },
   "kernels_config": {
    "python": {
     "delete_cmd_postfix": "",
     "delete_cmd_prefix": "del ",
     "library": "var_list.py",
     "varRefreshCmd": "print(var_dic_list())"
    },
    "r": {
     "delete_cmd_postfix": ") ",
     "delete_cmd_prefix": "rm(",
     "library": "var_list.r",
     "varRefreshCmd": "cat(var_dic_list()) "
    }
   },
   "types_to_exclude": [
    "module",
    "function",
    "builtin_function_or_method",
    "instance",
    "_Feature"
   ],
   "window_display": false
  }
 },
 "nbformat": 4,
 "nbformat_minor": 2
}
