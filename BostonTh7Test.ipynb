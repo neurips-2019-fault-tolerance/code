{
 "cells": [
  {
   "cell_type": "code",
   "execution_count": 1,
   "metadata": {
    "ExecuteTime": {
     "end_time": "2019-01-23T12:36:32.847935Z",
     "start_time": "2019-01-23T12:36:31.214290Z"
    }
   },
   "outputs": [
    {
     "name": "stderr",
     "output_type": "stream",
     "text": [
      "Using TensorFlow backend.\n"
     ]
    },
    {
     "name": "stdout",
     "output_type": "stream",
     "text": [
      "Initialized TensorFlow\n"
     ]
    }
   ],
   "source": [
    "%load_ext autoreload\n",
    "%autoreload 2\n",
    "%matplotlib inline\n",
    "from helpers import *\n",
    "from matplotlib import pyplot as plt\n",
    "import numpy as np\n",
    "from experiment_random import *\n",
    "from scipy.special import expit\n",
    "import pandas as pd\n",
    "import seaborn as sns"
   ]
  },
  {
   "cell_type": "code",
   "execution_count": 2,
   "metadata": {
    "ExecuteTime": {
     "end_time": "2019-01-23T12:36:32.947773Z",
     "start_time": "2019-01-23T12:36:32.849224Z"
    }
   },
   "outputs": [],
   "source": [
    "# probability of failure\n",
    "p = 1e-2\n",
    "\n",
    "# fixing random seed\n",
    "np.random.seed(42)\n",
    "\n",
    "# the random network\n",
    "exp = RandomExperiment(N = [100, 21, 22, 23, 1], p_inference = [0, p, 0, 0, 0], KLips = 1, activation = 'sigmoid')\n",
    "\n",
    "# obtaining correct model\n",
    "model = exp.model_correct"
   ]
  },
  {
   "cell_type": "markdown",
   "metadata": {},
   "source": [
    "### Testing expression:\n",
    "$$\\sum\\limits_{i,j}\\frac{\\partial y_k}{\\partial w_{ij}}w_{ij}=\\sum\\limits_{j}\\frac{\\partial y_k}{\\partial x_j}x_j\n",
    "    = -\\frac{1}{p}(\\mathbb{E}_\\xi\\Delta_L^k+O(p^2))$$"
   ]
  },
  {
   "cell_type": "code",
   "execution_count": 3,
   "metadata": {
    "ExecuteTime": {
     "end_time": "2019-01-23T12:36:32.959998Z",
     "start_time": "2019-01-23T12:36:32.949285Z"
    }
   },
   "outputs": [],
   "source": [
    "# obtaining some data point\n",
    "some_x = -np.random.rand(100) * 100"
   ]
  },
  {
   "cell_type": "code",
   "execution_count": 4,
   "metadata": {
    "ExecuteTime": {
     "end_time": "2019-01-23T12:36:32.972828Z",
     "start_time": "2019-01-23T12:36:32.961594Z"
    }
   },
   "outputs": [],
   "source": [
    "def val_for_some_x(tensor):\n",
    "    \"\"\" Evaluate tensor for some fixed input \"\"\"\n",
    "    return get_session().run(tensor, feed_dict = {model.layers[0].input.name: [some_x]})"
   ]
  },
  {
   "cell_type": "code",
   "execution_count": 5,
   "metadata": {
    "ExecuteTime": {
     "end_time": "2019-01-23T12:36:32.984544Z",
     "start_time": "2019-01-23T12:36:32.973793Z"
    }
   },
   "outputs": [],
   "source": [
    "def grad_and_sum(output, variable):\n",
    "    \"\"\" Calculate sum(doutput/dvariable * variable) \"\"\"\n",
    "    dydvar = tf.gradients(model.layers[-1].output, variable)[0]\n",
    "    mult = tf.multiply(dydvar, variable)\n",
    "    return tf.reduce_sum(mult)"
   ]
  },
  {
   "cell_type": "code",
   "execution_count": 6,
   "metadata": {
    "ExecuteTime": {
     "end_time": "2019-01-23T12:36:32.996126Z",
     "start_time": "2019-01-23T12:36:32.985353Z"
    }
   },
   "outputs": [],
   "source": [
    "def calc_and_print(layer = 0):\n",
    "    \"\"\" Calculate and print quantities from Th1 for a layer \"\"\"\n",
    "    dydx = grad_and_sum(model.layers[-1].output, model.layers[layer].input)\n",
    "    dydw = grad_and_sum(model.layers[-1].output, model.layers[layer].weights[0])\n",
    "    return(val_for_some_x(dydx), val_for_some_x(dydw))"
   ]
  },
  {
   "cell_type": "code",
   "execution_count": 7,
   "metadata": {
    "ExecuteTime": {
     "end_time": "2019-01-23T12:36:33.355508Z",
     "start_time": "2019-01-23T12:36:32.996912Z"
    }
   },
   "outputs": [
    {
     "name": "stdout",
     "output_type": "stream",
     "text": [
      "0 (0.00016751155, 0.00016751171)\n",
      "1 (0.005007021, 0.005007021)\n",
      "2 (0.03262172, 0.032621723)\n",
      "3 (-0.17164078, -0.17164078)\n"
     ]
    }
   ],
   "source": [
    "# comparing two different ways of computing the expression\n",
    "model.predict(some_x.reshape(1, -1))\n",
    "for layer in range(len(model.layers)):\n",
    "    print(layer, calc_and_print(layer))"
   ]
  },
  {
   "cell_type": "code",
   "execution_count": 8,
   "metadata": {
    "ExecuteTime": {
     "end_time": "2019-01-23T12:36:40.430278Z",
     "start_time": "2019-01-23T12:36:33.356506Z"
    }
   },
   "outputs": [
    {
     "data": {
      "text/plain": [
       "-5.350309e-05"
      ]
     },
     "execution_count": 8,
     "metadata": {},
     "output_type": "execute_result"
    }
   ],
   "source": [
    "# comparing experimental and theoretical errors\n",
    "arr_x = np.array([some_x])\n",
    "np.mean(exp.compute_error(arr_x, repetitions = 1000000))"
   ]
  },
  {
   "cell_type": "code",
   "execution_count": 9,
   "metadata": {
    "ExecuteTime": {
     "end_time": "2019-01-23T12:36:40.683997Z",
     "start_time": "2019-01-23T12:36:40.431213Z"
    }
   },
   "outputs": [
    {
     "data": {
      "text/plain": [
       "(array([[-5.007021e-05]], dtype=float32),\n",
       " array([[-5.4098815e-05]], dtype=float32))"
      ]
     },
     "execution_count": 9,
     "metadata": {},
     "output_type": "execute_result"
    }
   ],
   "source": [
    "exp.get_bound_b3(arr_x)['mean'], exp.get_bound_b4(arr_x)['mean']"
   ]
  },
  {
   "cell_type": "code",
   "execution_count": null,
   "metadata": {},
   "outputs": [],
   "source": []
  }
 ],
 "metadata": {
  "kernelspec": {
   "display_name": "Python 3",
   "language": "python",
   "name": "python3"
  },
  "language_info": {
   "codemirror_mode": {
    "name": "ipython",
    "version": 3
   },
   "file_extension": ".py",
   "mimetype": "text/x-python",
   "name": "python",
   "nbconvert_exporter": "python",
   "pygments_lexer": "ipython3",
   "version": "3.6.6"
  },
  "varInspector": {
   "cols": {
    "lenName": 16,
    "lenType": 16,
    "lenVar": 40
   },
   "kernels_config": {
    "python": {
     "delete_cmd_postfix": "",
     "delete_cmd_prefix": "del ",
     "library": "var_list.py",
     "varRefreshCmd": "print(var_dic_list())"
    },
    "r": {
     "delete_cmd_postfix": ") ",
     "delete_cmd_prefix": "rm(",
     "library": "var_list.r",
     "varRefreshCmd": "cat(var_dic_list()) "
    }
   },
   "types_to_exclude": [
    "module",
    "function",
    "builtin_function_or_method",
    "instance",
    "_Feature"
   ],
   "window_display": false
  }
 },
 "nbformat": 4,
 "nbformat_minor": 2
}
