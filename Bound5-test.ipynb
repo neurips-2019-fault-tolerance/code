{
 "cells": [
  {
   "cell_type": "code",
   "execution_count": 42,
   "metadata": {},
   "outputs": [],
   "source": [
    "import numpy as np\n",
    "import itertools\n",
    "%matplotlib inline\n",
    "from matplotlib import pyplot as plt\n",
    "from functools import partial\n",
    "from tqdm import tqdm"
   ]
  },
  {
   "cell_type": "markdown",
   "metadata": {},
   "source": [
    "Testing the following equations for $\\Delta(w,u)=f(w+u)-f(w)$\n",
    "$$\n",
    "\\mathbb{E}\\Delta(w,u)=f'_i\\mathbb{E}u+\\frac{1}{2}f''_{ii}\\mathbb{V}ar u+\\frac{1}{2}\\mathbb{E}u^Tf''_{ij}\\mathbb{E}u+\\mathcal{O}(\\alpha^3)\n",
    "$$\n",
    "\n",
    "$$\n",
    "\\mathbb{E}\\Delta(w,u)=(f'_i)^2\\mathbb{V}ar u+(f'_{i}\\mathbb{E} u)^2+\\mathcal{O}(\\alpha^3)\n",
    "$$\n",
    "\n",
    "Will use Gaussian input $\\mathbb{R}^d\\ni x\\sim N(\\mu_x,\\sigma_x^2 I)$, one hidden layer with $\\sigma(x)=\\frac{1}{1+e^{-x}}$ and Gaussian weights $w\\in\\mathbb{R}^d$ with $w\\sim N(\\mu_w,\\sigma_w^2 I)$\n",
    "\n",
    "The distribution of crashes of inputs is Bernoulli with parameter $p$."
   ]
  },
  {
   "cell_type": "code",
   "execution_count": 73,
   "metadata": {},
   "outputs": [],
   "source": [
    "# see parameter description in latex above\n",
    "mu_x = 1\n",
    "sigma_x = 0.2\n",
    "mu_w = 0.05\n",
    "sigma_w = 0.1\n",
    "d = 10\n",
    "p = 0.1"
   ]
  },
  {
   "cell_type": "code",
   "execution_count": 74,
   "metadata": {},
   "outputs": [],
   "source": [
    "# generating x and w\n",
    "x = np.random.randn(d, 1) * sigma_x + mu_x\n",
    "w = np.random.randn(d, 1) * sigma_w + mu_w"
   ]
  },
  {
   "cell_type": "code",
   "execution_count": 75,
   "metadata": {},
   "outputs": [],
   "source": [
    "def sigma(x):\n",
    "    \"\"\" Activation fcn \"\"\"\n",
    "    return 1. / (1 + np.exp(-x))\n",
    "\n",
    "def sigma_dot(x):\n",
    "    \"\"\" Derivative of sigma \"\"\"\n",
    "    return sigma(x) * (1. - sigma(x))\n",
    "\n",
    "def sigma_ddot(x):\n",
    "    \"\"\" Double derivative of sigma \"\"\"\n",
    "    return sigma(x) * (1. - sigma(x)) * (1. - 2 * sigma(x))"
   ]
  },
  {
   "cell_type": "code",
   "execution_count": 76,
   "metadata": {},
   "outputs": [],
   "source": [
    "def compute_mean_and_var_bernoulli_twosided(fcn, p, threshold = lambda x : True):\n",
    "    \"\"\" Compute expectation and variance of fcn given Bernoulli crashes w.p. p\n",
    "        Two sided: w.p. p/2 +x, w.p. p/2 -x\n",
    "    \"\"\"\n",
    "    # all combinations\n",
    "    combinations = list(itertools.product([0, 1, 2], repeat=len(x)))\n",
    "    \n",
    "    # resulting expectation of fcn\n",
    "    result_f = 0.\n",
    "    \n",
    "    # resulting expectation of fcn^2\n",
    "    result_f_sq = 0.\n",
    "    \n",
    "    # number of entries in x\n",
    "    n = len(x)\n",
    "\n",
    "    # all probs\n",
    "    probs = 0\n",
    "    \n",
    "    for c in combinations:\n",
    "        # crashing inputs\n",
    "        x1 = np.multiply(x.reshape(-1), c)\n",
    "        \n",
    "        # number of crashes\n",
    "        k = len(c) - np.sum(np.array(c) != 1)\n",
    "        \n",
    "        # probability of this event\n",
    "        prob = p ** k * (1 - p) ** (n - k) / 2\n",
    "        \n",
    "        # how much vector is changed in norm?\n",
    "        alpha = np.linalg.norm(x.reshape(-1) - x1) / np.linalg.norm(x)\n",
    "        \n",
    "        # not suitable -> skipping this crash\n",
    "        if not threshold(x1):\n",
    "            continue\n",
    "        \n",
    "        # adding to fracs distribution\n",
    "        fracs.append(alpha)\n",
    "        \n",
    "        #print(n, k, prob, fcn(x1))\n",
    "        \n",
    "        # computing expectation\n",
    "        result_f += fcn(x1) * prob\n",
    "        result_f_sq += fcn(x1) ** 2 * prob\n",
    "        \n",
    "        probs += prob\n",
    "        \n",
    "    result_f /= probs\n",
    "    result_f_sq /= probs\n",
    "        \n",
    "    return result_f, result_f_sq - result_f ** 2"
   ]
  },
  {
   "cell_type": "code",
   "execution_count": 77,
   "metadata": {},
   "outputs": [],
   "source": [
    "def compute_mean_and_var_bernoulli(fcn, p, threshold = lambda x : True):\n",
    "    \"\"\" Compute expectation and variance of fcn given Bernoulli crashes w.p. p\n",
    "        Two sided: w.p. p/2 +x, w.p. p/2 -x\n",
    "    \"\"\"\n",
    "    # all combinations\n",
    "    combinations = list(itertools.product([0, 1], repeat=len(x)))\n",
    "    \n",
    "    # resulting expectation of fcn\n",
    "    result_f = 0.\n",
    "    \n",
    "    # resulting expectation of fcn^2\n",
    "    result_f_sq = 0.\n",
    "    \n",
    "    # number of entries in x\n",
    "    n = len(x)\n",
    "\n",
    "    # all probs\n",
    "    probs = 0\n",
    "    \n",
    "    for c in combinations:\n",
    "        # crashing inputs\n",
    "        x1 = np.multiply(x.reshape(-1), c)\n",
    "        \n",
    "        # number of crashes\n",
    "        k = len(c) - np.sum(c)\n",
    "        \n",
    "        # probability of this event\n",
    "        prob = p ** k * (1 - p) ** (n - k)\n",
    "        \n",
    "        # how much vector is changed in norm?\n",
    "        alpha = np.linalg.norm(x.reshape(-1) - x1) / np.linalg.norm(x)\n",
    "        \n",
    "        # not suitable -> skipping this crash\n",
    "        if not threshold(x1):\n",
    "            continue\n",
    "        \n",
    "        # adding to fracs distribution\n",
    "        fracs.append(alpha)\n",
    "        \n",
    "        #print(n, k, prob, fcn(x1))\n",
    "        \n",
    "        # computing expectation\n",
    "        result_f += fcn(x1) * prob\n",
    "        result_f_sq += fcn(x1) ** 2 * prob\n",
    "        \n",
    "        probs += prob\n",
    "        \n",
    "    result_f /= probs\n",
    "    result_f_sq /= probs\n",
    "        \n",
    "    return result_f, result_f_sq - result_f ** 2"
   ]
  },
  {
   "cell_type": "code",
   "execution_count": 78,
   "metadata": {},
   "outputs": [],
   "source": [
    "def nn(x):\n",
    "    \"\"\" Neural network at pt x \"\"\"\n",
    "    return np.mean(sigma(x.T @ w))"
   ]
  },
  {
   "cell_type": "code",
   "execution_count": 79,
   "metadata": {},
   "outputs": [],
   "source": [
    "# pre-activation\n",
    "z = np.mean(x.T @ w)\n",
    "\n",
    "def delta(x1):\n",
    "    \"\"\" Error delta(input crash) \"\"\"\n",
    "    return nn(x1) - nn(x)"
   ]
  },
  {
   "cell_type": "code",
   "execution_count": 80,
   "metadata": {},
   "outputs": [
    {
     "data": {
      "text/plain": [
       "(0.6970621669399948, 0.6675360952293615)"
      ]
     },
     "execution_count": 80,
     "metadata": {},
     "output_type": "execute_result"
    }
   ],
   "source": [
    "# pre-activation and activation\n",
    "z, sigma(z)"
   ]
  },
  {
   "cell_type": "code",
   "execution_count": 66,
   "metadata": {},
   "outputs": [],
   "source": [
    "def experiment(distribution):\n",
    "    \"\"\" Calculate experiment for distribution \"\"\"\n",
    "    # fractions of change in norm\n",
    "    global fracs\n",
    "    fracs = []\n",
    "\n",
    "    # Delta (experimental)\n",
    "    EDelta, VarDelta = distribution(delta)\n",
    "\n",
    "    # plotting alphas\n",
    "    plt.figure()\n",
    "    plt.hist(fracs)\n",
    "    plt.show()\n",
    "\n",
    "    # Error (experimental)\n",
    "    Eu, Varu = distribution(lambda z : np.array(z) - x.reshape(-1))\n",
    "\n",
    "    #print(Eu, Varu)\n",
    "    \n",
    "    # derivatives\n",
    "    f_i = sigma_dot(z) * w\n",
    "    f_ij = sigma_ddot(z) * w @ w.T\n",
    "    f_ii = f_ij.diagonal()\n",
    "\n",
    "    EDelta_theory = (np.dot(f_i.T, Eu) + 0.5 * np.dot(f_ii, Varu) + 0.5 * Eu.T @ f_ij @ Eu)[0]\n",
    "    VarDelta_theory = (np.dot(f_i.T ** 2, Varu) + np.dot(f_i.T, Eu) ** 2)[0]\n",
    "    \n",
    "    print('Quantity Experiment Theory')\n",
    "    print('E', EDelta, EDelta_theory)\n",
    "    print('Var', VarDelta, VarDelta_theory)\n",
    "    \n",
    "    return EDelta, VarDelta"
   ]
  },
  {
   "cell_type": "markdown",
   "metadata": {},
   "source": [
    "### Experiment for full Bernoulli"
   ]
  },
  {
   "cell_type": "code",
   "execution_count": 67,
   "metadata": {},
   "outputs": [
    {
     "data": {
      "image/png": "[encoded data removed]",
      "text/plain": [
       "<Figure size 432x288 with 1 Axes>"
      ]
     },
     "metadata": {
      "needs_background": "light"
     },
     "output_type": "display_data"
    },
    {
     "name": "stdout",
     "output_type": "stream",
     "text": [
      "Quantity Experiment Theory\n",
      "E -0.020429190994122052 -0.024784307790324853\n",
      "Var 0.00032515288158605486 0.0010481713577779703\n"
     ]
    },
    {
     "data": {
      "text/plain": [
       "(-0.020429190994122052, 0.00032515288158605486)"
      ]
     },
     "execution_count": 67,
     "metadata": {},
     "output_type": "execute_result"
    }
   ],
   "source": [
    "experiment(partial(compute_mean_and_var_bernoulli, threshold = lambda x : True, p = p))"
   ]
  },
  {
   "cell_type": "markdown",
   "metadata": {},
   "source": [
    "### Experiment for two-sided Bernoulli"
   ]
  },
  {
   "cell_type": "code",
   "execution_count": 68,
   "metadata": {},
   "outputs": [
    {
     "data": {
      "image/png": "[encoded data removed]",
      "text/plain": [
       "<Figure size 432x288 with 1 Axes>"
      ]
     },
     "metadata": {
      "needs_background": "light"
     },
     "output_type": "display_data"
    },
    {
     "name": "stdout",
     "output_type": "stream",
     "text": [
      "Quantity Experiment Theory\n",
      "E -0.0034978733349180936 -0.0014018768724109306\n",
      "Var 0.003031689143609067 0.0047285925914852655\n"
     ]
    },
    {
     "data": {
      "text/plain": [
       "(-0.0034978733349180936, 0.003031689143609067)"
      ]
     },
     "execution_count": 68,
     "metadata": {},
     "output_type": "execute_result"
    }
   ],
   "source": [
    "experiment(partial(compute_mean_and_var_bernoulli_twosided, threshold = lambda x : True, p = p))"
   ]
  },
  {
   "cell_type": "markdown",
   "metadata": {},
   "source": [
    "### Is it true that $P\\{u|\\|u\\|\\geq\\alpha \\|w\\|\\}$ is small?"
   ]
  },
  {
   "cell_type": "code",
   "execution_count": 86,
   "metadata": {},
   "outputs": [],
   "source": [
    "def compute_prob_delta_small(p, alpha_0 = 0.5):\n",
    "    \"\"\" Compute expectation and variance of fcn given Bernoulli crashes w.p. p\n",
    "        Two sided: w.p. p/2 +x, w.p. p/2 -x\n",
    "    \"\"\"\n",
    "    # all combinations\n",
    "    combinations = list(itertools.product([0, 1], repeat=len(x)))\n",
    "    \n",
    "    # number of entries in x\n",
    "    n = len(x)\n",
    "\n",
    "    # all probs\n",
    "    probs = 0\n",
    "    \n",
    "    probs_small = 0\n",
    "    deltas = {n_: [] for n_ in range(len(x) + 1)}\n",
    "    \n",
    "    for c in combinations:\n",
    "        # crashing inputs\n",
    "        x1 = np.multiply(x.reshape(-1), c)\n",
    "        \n",
    "        # number of crashes\n",
    "        k = len(c) - np.sum(c)\n",
    "        \n",
    "        # probability of this event\n",
    "        prob = p ** k * (1 - p) ** (n - k)\n",
    "        \n",
    "        # how much vector is changed in norm?\n",
    "        alpha = np.linalg.norm(x.reshape(-1) - x1) ** 2 / np.linalg.norm(x) ** 2\n",
    "        \n",
    "        deltas[k].append(alpha)\n",
    "        \n",
    "        probs += prob\n",
    "        \n",
    "        if alpha <= alpha_0:\n",
    "            probs_small += prob\n",
    "    return (probs - probs_small) / probs, deltas"
   ]
  },
  {
   "cell_type": "code",
   "execution_count": 87,
   "metadata": {},
   "outputs": [],
   "source": [
    "# deltas -- probability of having this particular number of crashes\n",
    "p_, deltas = compute_prob_delta_small(p, 0.5)"
   ]
  },
  {
   "cell_type": "code",
   "execution_count": 89,
   "metadata": {},
   "outputs": [
    {
     "data": {
      "image/png": "[encoded data removed]",
      "text/plain": [
       "<Figure size 432x288 with 1 Axes>"
      ]
     },
     "metadata": {
      "needs_background": "light"
     },
     "output_type": "display_data"
    }
   ],
   "source": [
    "# plotting probability of error grouped by number of crashes\n",
    "plt.figure()\n",
    "plt.xlabel('Error squared')\n",
    "plt.ylabel('Freq')\n",
    "for k in sorted(deltas.keys()):\n",
    "    h = deltas[k]\n",
    "    plt.hist(h, alpha = 0.5, label = '%d' % k)\n",
    "plt.legend()\n",
    "plt.show()"
   ]
  },
  {
   "cell_type": "markdown",
   "metadata": {},
   "source": [
    "Is it true that $P(\\|u\\|\\geq\\alpha\\|w\\|)$ is small? Answer: kinda for $\\leq 3$ crashes $\\alpha\\leq 0.5$"
   ]
  },
  {
   "cell_type": "code",
   "execution_count": 72,
   "metadata": {},
   "outputs": [
    {
     "data": {
      "text/plain": [
       "[<matplotlib.lines.Line2D at 0x7fdf0ddafe48>]"
      ]
     },
     "execution_count": 72,
     "metadata": {},
     "output_type": "execute_result"
    },
    {
     "data": {
      "image/png": "[encoded data removed]",
      "text/plain": [
       "<Figure size 432x288 with 1 Axes>"
      ]
     },
     "metadata": {
      "needs_background": "light"
     },
     "output_type": "display_data"
    }
   ],
   "source": [
    "# Plotting squared norm change with growing f\n",
    "plt.plot([np.mean(deltas[k]) for k in sorted(deltas.keys())])"
   ]
  },
  {
   "cell_type": "markdown",
   "metadata": {},
   "source": [
    "#### Computing desired probability directly (cumulative p.f.)"
   ]
  },
  {
   "cell_type": "code",
   "execution_count": 90,
   "metadata": {},
   "outputs": [],
   "source": [
    "def compute_prob(p, alpha_0 = 0.5):\n",
    "    \"\"\" Compute expectation and variance of fcn given Bernoulli crashes w.p. p\n",
    "        Two sided: w.p. p/2 +x, w.p. p/2 -x\n",
    "    \"\"\"\n",
    "    # all combinations\n",
    "    combinations = list(itertools.product([0, 1], repeat=len(x)))\n",
    "    \n",
    "    # number of entries in x\n",
    "    n = len(x)\n",
    "\n",
    "    # all probs\n",
    "    probs = 0\n",
    "    probs_arr = [0 for n_ in range(len(x) + 1)]\n",
    "    \n",
    "    for c in combinations:\n",
    "        # crashing inputs\n",
    "        x1 = np.multiply(x.reshape(-1), c)\n",
    "        \n",
    "        # number of crashes\n",
    "        k = len(c) - np.sum(c)\n",
    "        \n",
    "        # probability of this event\n",
    "        prob = p ** k * (1 - p) ** (n - k)\n",
    "        \n",
    "        probs_arr[k] += prob\n",
    "        \n",
    "        probs += prob\n",
    "        \n",
    "    return np.array(probs_arr) / probs"
   ]
  },
  {
   "cell_type": "code",
   "execution_count": 91,
   "metadata": {},
   "outputs": [
    {
     "data": {
      "text/plain": [
       "[<matplotlib.lines.Line2D at 0x7f601dca36d8>]"
      ]
     },
     "execution_count": 91,
     "metadata": {},
     "output_type": "execute_result"
    },
    {
     "data": {
      "image/png": "[encoded data removed]",
      "text/plain": [
       "<Figure size 432x288 with 1 Axes>"
      ]
     },
     "metadata": {
      "needs_background": "light"
     },
     "output_type": "display_data"
    }
   ],
   "source": [
    "# probability of having k crashes\n",
    "plt.plot(compute_prob(0.1))"
   ]
  },
  {
   "cell_type": "code",
   "execution_count": 92,
   "metadata": {},
   "outputs": [
    {
     "data": {
      "text/plain": [
       "[<matplotlib.lines.Line2D at 0x7f602222d4a8>]"
      ]
     },
     "execution_count": 92,
     "metadata": {},
     "output_type": "execute_result"
    },
    {
     "data": {
      "image/png": "[encoded data removed]",
      "text/plain": [
       "<Figure size 432x288 with 1 Axes>"
      ]
     },
     "metadata": {
      "needs_background": "light"
     },
     "output_type": "display_data"
    }
   ],
   "source": [
    "# probability of having >=k crashes\n",
    "plt.plot(np.cumsum(compute_prob(0.5)[::-1])[::-1])"
   ]
  },
  {
   "cell_type": "markdown",
   "metadata": {},
   "source": [
    "### Increasing size of x"
   ]
  },
  {
   "cell_type": "code",
   "execution_count": 33,
   "metadata": {},
   "outputs": [],
   "source": [
    "def varDelta(d_ = 10):\n",
    "    # generating x and w\n",
    "    global x, d, w\n",
    "    d = d_\n",
    "    x = np.ones((d, 1))\n",
    "    w = np.ones((d, 1)) / d\n",
    "    varDelta = experiment(partial(compute_mean_and_var_bernoulli, threshold = lambda x : True, p = p))[1]\n",
    "    return varDelta"
   ]
  },
  {
   "cell_type": "code",
   "execution_count": 46,
   "metadata": {},
   "outputs": [
    {
     "name": "stderr",
     "output_type": "stream",
     "text": [
      "\r",
      "  0%|          | 0/12 [00:00<?, ?it/s]"
     ]
    },
    {
     "data": {
      "image/png": "[encoded data removed]",
      "text/plain": [
       "<Figure size 432x288 with 1 Axes>"
      ]
     },
     "metadata": {
      "needs_background": "light"
     },
     "output_type": "display_data"
    },
    {
     "name": "stdout",
     "output_type": "stream",
     "text": [
      "[-0.1] [0.09]\n",
      "-0.02310585786300049 -0.026249269121992286\n",
      "0.004804926008266635 0.005989550615874039\n"
     ]
    },
    {
     "data": {
      "image/png": "[encoded data removed]",
      "text/plain": [
       "<Figure size 432x288 with 1 Axes>"
      ]
     },
     "metadata": {
      "needs_background": "light"
     },
     "output_type": "display_data"
    },
    {
     "name": "stderr",
     "output_type": "stream",
     "text": [
      "\r",
      " 17%|█▋        | 2/12 [00:00<00:00, 11.29it/s]"
     ]
    },
    {
     "name": "stdout",
     "output_type": "stream",
     "text": [
      "[-0.1 -0.1] [0.09 0.09]\n",
      "-0.021858450323367105 -0.025450199304719028\n",
      "0.0021789721945989844 0.0032942528387307213\n"
     ]
    },
    {
     "data": {
      "image/png": "[encoded data removed]",
      "text/plain": [
       "<Figure size 432x288 with 1 Axes>"
      ]
     },
     "metadata": {
      "needs_background": "light"
     },
     "output_type": "display_data"
    },
    {
     "name": "stdout",
     "output_type": "stream",
     "text": [
      "[-0.1 -0.1 -0.1] [0.09 0.09 0.09]\n",
      "-0.021323681624155245 -0.025183842698961265\n",
      "0.0013950095517780178 0.002395820246349615\n"
     ]
    },
    {
     "data": {
      "image/png": "[encoded data removed]",
      "text/plain": [
       "<Figure size 432x288 with 1 Axes>"
      ]
     },
     "metadata": {
      "needs_background": "light"
     },
     "output_type": "display_data"
    },
    {
     "name": "stderr",
     "output_type": "stream",
     "text": [
      "\r",
      " 33%|███▎      | 4/12 [00:00<00:00, 11.34it/s]"
     ]
    },
    {
     "name": "stdout",
     "output_type": "stream",
     "text": [
      "[-0.1 -0.1 -0.1 -0.1] [0.09 0.09 0.09 0.09]\n",
      "-0.02103717761171509 -0.025050664396082396\n",
      "0.0010234784227806412 0.0019466039501590628\n"
     ]
    },
    {
     "data": {
      "image/png": "[encoded data removed]",
      "text/plain": [
       "<Figure size 432x288 with 1 Axes>"
      ]
     },
     "metadata": {
      "needs_background": "light"
     },
     "output_type": "display_data"
    },
    {
     "name": "stdout",
     "output_type": "stream",
     "text": [
      "[-0.1 -0.1 -0.1 -0.1 -0.1] [0.09 0.09 0.09 0.09 0.09]\n",
      "-0.020859529931298065 -0.02497075741435507\n",
      "0.0008075378953964392 0.0016770741724447314\n"
     ]
    },
    {
     "data": {
      "image/png": "[encoded data removed]",
      "text/plain": [
       "<Figure size 432x288 with 1 Axes>"
      ]
     },
     "metadata": {
      "needs_background": "light"
     },
     "output_type": "display_data"
    },
    {
     "name": "stderr",
     "output_type": "stream",
     "text": [
      "\r",
      " 50%|█████     | 6/12 [00:00<00:00, 11.18it/s]"
     ]
    },
    {
     "name": "stdout",
     "output_type": "stream",
     "text": [
      "[-0.1 -0.1 -0.1 -0.1 -0.1 -0.1] [0.09 0.09 0.09 0.09 0.09 0.09]\n",
      "-0.0207387919031001 -0.02491748609320352\n",
      "0.0006665908871617143 0.0014973876539685098\n"
     ]
    },
    {
     "data": {
      "image/png": "[encoded data removed]",
      "text/plain": [
       "<Figure size 432x288 with 1 Axes>"
      ]
     },
     "metadata": {
      "needs_background": "light"
     },
     "output_type": "display_data"
    },
    {
     "name": "stdout",
     "output_type": "stream",
     "text": [
      "[-0.1 -0.1 -0.1 -0.1 -0.1 -0.1 -0.1] [0.09 0.09 0.09 0.09 0.09 0.09 0.09]\n",
      "-0.020651449038167326 -0.024879435149523843\n",
      "0.0005674245804661374 0.0013690401407712091\n"
     ]
    },
    {
     "data": {
      "image/png": "[encoded data removed]",
      "text/plain": [
       "<Figure size 432x288 with 1 Axes>"
      ]
     },
     "metadata": {
      "needs_background": "light"
     },
     "output_type": "display_data"
    },
    {
     "name": "stderr",
     "output_type": "stream",
     "text": [
      "\r",
      " 67%|██████▋   | 8/12 [00:00<00:00, 10.24it/s]"
     ]
    },
    {
     "name": "stdout",
     "output_type": "stream",
     "text": [
      "[-0.1 -0.1 -0.1 -0.1 -0.1 -0.1 -0.1 -0.1] [0.09 0.09 0.09 0.09 0.09 0.09 0.09 0.09]\n",
      "-0.02058535053370673 -0.024850896941764095\n",
      "0.00049388899247127 0.0012727795058732343\n"
     ]
    },
    {
     "data": {
      "image/png": "[encoded data removed]",
      "text/plain": [
       "<Figure size 432x288 with 1 Axes>"
      ]
     },
     "metadata": {
      "needs_background": "light"
     },
     "output_type": "display_data"
    },
    {
     "name": "stderr",
     "output_type": "stream",
     "text": [
      "\r",
      " 75%|███████▌  | 9/12 [00:00<00:00,  9.06it/s]"
     ]
    },
    {
     "name": "stdout",
     "output_type": "stream",
     "text": [
      "[-0.1 -0.1 -0.1 -0.1 -0.1 -0.1 -0.1 -0.1 -0.1] [0.09 0.09 0.09 0.09 0.09 0.09 0.09 0.09 0.09]\n",
      "-0.02053359504492548 -0.024828700557950917\n",
      "0.00043719780264880485 0.0011979101231748062\n"
     ]
    },
    {
     "data": {
      "image/png": "[encoded data removed]",
      "text/plain": [
       "<Figure size 432x288 with 1 Axes>"
      ]
     },
     "metadata": {
      "needs_background": "light"
     },
     "output_type": "display_data"
    },
    {
     "name": "stderr",
     "output_type": "stream",
     "text": [
      "\r",
      " 83%|████████▎ | 10/12 [00:01<00:00,  7.46it/s]"
     ]
    },
    {
     "name": "stdout",
     "output_type": "stream",
     "text": [
      "[-0.1 -0.1 -0.1 -0.1 -0.1 -0.1 -0.1 -0.1 -0.1 -0.1] [0.09 0.09 0.09 0.09 0.09 0.09 0.09 0.09 0.09 0.09]\n",
      "-0.02049197536965389 -0.024810943450900364\n",
      "0.00039216471695025564 0.001138014617016064\n"
     ]
    },
    {
     "data": {
      "image/png": "[encoded data removed]",
      "text/plain": [
       "<Figure size 432x288 with 1 Axes>"
      ]
     },
     "metadata": {
      "needs_background": "light"
     },
     "output_type": "display_data"
    },
    {
     "name": "stderr",
     "output_type": "stream",
     "text": [
      "\r",
      " 92%|█████████▏| 11/12 [00:01<00:00,  5.42it/s]"
     ]
    },
    {
     "name": "stdout",
     "output_type": "stream",
     "text": [
      "[-0.1 -0.1 -0.1 -0.1 -0.1 -0.1 -0.1 -0.1 -0.1 -0.1 -0.1] [0.09 0.09 0.09 0.09 0.09 0.09 0.09 0.09 0.09 0.09 0.09]\n",
      "-0.02045778184967693 -0.024796414908768143\n",
      "0.00035553246597546116 0.0010890092028861867\n"
     ]
    },
    {
     "data": {
      "image/png": "[encoded data removed]",
      "text/plain": [
       "<Figure size 432x288 with 1 Axes>"
      ]
     },
     "metadata": {
      "needs_background": "light"
     },
     "output_type": "display_data"
    },
    {
     "name": "stderr",
     "output_type": "stream",
     "text": [
      "\r",
      "100%|██████████| 12/12 [00:01<00:00,  3.56it/s]"
     ]
    },
    {
     "name": "stdout",
     "output_type": "stream",
     "text": [
      "[-0.1 -0.1 -0.1 -0.1 -0.1 -0.1 -0.1 -0.1 -0.1 -0.1 -0.1 -0.1] [0.09 0.09 0.09 0.09 0.09 0.09 0.09 0.09 0.09 0.09 0.09 0.09]\n",
      "-0.020429190994122052 -0.024784307790324853\n",
      "0.00032515288158605486 0.0010481713577779703\n"
     ]
    },
    {
     "name": "stderr",
     "output_type": "stream",
     "text": [
      "\n"
     ]
    }
   ],
   "source": [
    "ks = np.arange(1, 13)\n",
    "varDeltas = [varDelta(k) for k in tqdm(ks)]"
   ]
  },
  {
   "cell_type": "code",
   "execution_count": 61,
   "metadata": {},
   "outputs": [],
   "source": [
    "def test_hyperbola(xs, ys):\n",
    "    \"\"\" Test how much data looks like hyperbola y = 1/x \"\"\"\n",
    "    c, alpha = np.polyfit(np.log(xs), np.log(ys), 1)\n",
    "    plt.plot(xs, ys)\n",
    "    plt.show()\n",
    "    plt.plot(np.log(xs), np.log(ys))\n",
    "    print(c)"
   ]
  },
  {
   "cell_type": "code",
   "execution_count": 62,
   "metadata": {},
   "outputs": [
    {
     "data": {
      "image/png": "[encoded data removed]",
      "text/plain": [
       "<Figure size 432x288 with 1 Axes>"
      ]
     },
     "metadata": {
      "needs_background": "light"
     },
     "output_type": "display_data"
    },
    {
     "name": "stdout",
     "output_type": "stream",
     "text": [
      "-1.0774410465753252\n"
     ]
    },
    {
     "data": {
      "image/png": "[encoded data removed]",
      "text/plain": [
       "<Figure size 432x288 with 1 Axes>"
      ]
     },
     "metadata": {
      "needs_background": "light"
     },
     "output_type": "display_data"
    }
   ],
   "source": [
    "test_hyperbola(ks, varDeltas)"
   ]
  },
  {
   "cell_type": "code",
   "execution_count": null,
   "metadata": {},
   "outputs": [],
   "source": []
  }
 ],
 "metadata": {
  "kernelspec": {
   "display_name": "Python 3",
   "language": "python",
   "name": "python3"
  },
  "language_info": {
   "codemirror_mode": {
    "name": "ipython",
    "version": 3
   },
   "file_extension": ".py",
   "mimetype": "text/x-python",
   "name": "python",
   "nbconvert_exporter": "python",
   "pygments_lexer": "ipython3",
   "version": "3.6.8"
  },
  "varInspector": {
   "cols": {
    "lenName": 16,
    "lenType": 16,
    "lenVar": 40
   },
   "kernels_config": {
    "python": {
     "delete_cmd_postfix": "",
     "delete_cmd_prefix": "del ",
     "library": "var_list.py",
     "varRefreshCmd": "print(var_dic_list())"
    },
    "r": {
     "delete_cmd_postfix": ") ",
     "delete_cmd_prefix": "rm(",
     "library": "var_list.r",
     "varRefreshCmd": "cat(var_dic_list()) "
    }
   },
   "types_to_exclude": [
    "module",
    "function",
    "builtin_function_or_method",
    "instance",
    "_Feature"
   ],
   "window_display": false
  }
 },
 "nbformat": 4,
 "nbformat_minor": 2
}
